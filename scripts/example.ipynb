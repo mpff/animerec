{
 "cells": [
  {
   "cell_type": "markdown",
   "metadata": {},
   "source": [
    "# Building an Anime Recommender System"
   ]
  },
  {
   "cell_type": "code",
   "execution_count": 1,
   "metadata": {},
   "outputs": [],
   "source": [
    "import sys\n",
    "sys.path.append(\"..\")\n",
    "\n",
    "from animerec import models\n",
    "from animerec import utils\n",
    "\n",
    "import pandas\n",
    "import pickle"
   ]
  },
  {
   "cell_type": "markdown",
   "metadata": {},
   "source": [
    "### 1. Load Dataset and Model"
   ]
  },
  {
   "cell_type": "code",
   "execution_count": 2,
   "metadata": {},
   "outputs": [],
   "source": [
    "# Load anime metadata.\n",
    "pickle_in = open(\"../data/animes.pickle\", 'rb')\n",
    "animes = pickle.load(pickle_in)\n",
    "animes.index = animes['anime_id']\n",
    "animes = animes[ ['title', 'title_english', 'type', 'premiered', 'genre'] ]\n",
    "pickle_in.close()\n",
    "\n",
    "# Load model trained on server.\n",
    "pickle_in = open(\"../model/model.pickle\", 'rb')\n",
    "model = pickle.load(pickle_in)\n",
    "pickle_in.close()\n",
    "\n",
    "# Load anime id's.\n",
    "pickle_in = open(\"../model/item-id.pickle\", 'rb')\n",
    "item_id = pickle.load(pickle_in)\n",
    "pickle_in.close()"
   ]
  },
  {
   "cell_type": "markdown",
   "metadata": {},
   "source": [
    "### 3. Webscrape current profile and create prediction"
   ]
  },
  {
   "cell_type": "code",
   "execution_count": 3,
   "metadata": {},
   "outputs": [
    {
     "name": "stdout",
     "output_type": "stream",
     "text": [
      "Scraped 300 additional anime from https://myanimelist.net/animelist/Manuel/load.json?offset=0&status=7\n",
      "Scraped 166 additional anime from https://myanimelist.net/animelist/Manuel/load.json?offset=300&status=7\n"
     ]
    }
   ],
   "source": [
    "myprofile = utils.get_user_anime_list('Manuel')\n",
    "x = utils.get_score_vector_from_user_anime_list(myprofile, item_id)"
   ]
  },
  {
   "cell_type": "code",
   "execution_count": 4,
   "metadata": {},
   "outputs": [],
   "source": [
    "rhat = model.predict(x)"
   ]
  },
  {
   "cell_type": "code",
   "execution_count": 5,
   "metadata": {},
   "outputs": [],
   "source": [
    "prediction = utils.prediction_to_dataframe(rhat, myprofile, item_id, keep_all=False)\n",
    "prediction = pandas.DataFrame(prediction)\n",
    "prediction.columns = ['score']\n",
    "prediction = prediction.join(animes)"
   ]
  },
  {
   "cell_type": "code",
   "execution_count": 6,
   "metadata": {},
   "outputs": [
    {
     "data": {
      "text/html": [
       "<div>\n",
       "<style scoped>\n",
       "    .dataframe tbody tr th:only-of-type {\n",
       "        vertical-align: middle;\n",
       "    }\n",
       "\n",
       "    .dataframe tbody tr th {\n",
       "        vertical-align: top;\n",
       "    }\n",
       "\n",
       "    .dataframe thead th {\n",
       "        text-align: right;\n",
       "    }\n",
       "</style>\n",
       "<table border=\"1\" class=\"dataframe\">\n",
       "  <thead>\n",
       "    <tr style=\"text-align: right;\">\n",
       "      <th></th>\n",
       "      <th>score</th>\n",
       "      <th>title</th>\n",
       "      <th>title_english</th>\n",
       "      <th>type</th>\n",
       "      <th>premiered</th>\n",
       "      <th>genre</th>\n",
       "    </tr>\n",
       "  </thead>\n",
       "  <tbody>\n",
       "    <tr>\n",
       "      <td>11757</td>\n",
       "      <td>9.670687</td>\n",
       "      <td>Sword Art Online</td>\n",
       "      <td>Sword Art Online</td>\n",
       "      <td>TV</td>\n",
       "      <td>Summer 2012</td>\n",
       "      <td>Action, Adventure, Fantasy, Game, Romance</td>\n",
       "    </tr>\n",
       "    <tr>\n",
       "      <td>530</td>\n",
       "      <td>9.578186</td>\n",
       "      <td>Bishoujo Senshi Sailor Moon</td>\n",
       "      <td>Sailor Moon</td>\n",
       "      <td>TV</td>\n",
       "      <td>Spring 1992</td>\n",
       "      <td>Demons, Magic, Romance, Shoujo</td>\n",
       "    </tr>\n",
       "    <tr>\n",
       "      <td>532</td>\n",
       "      <td>9.350300</td>\n",
       "      <td>Bishoujo Senshi Sailor Moon S</td>\n",
       "      <td>Sailor Moon S</td>\n",
       "      <td>TV</td>\n",
       "      <td>Spring 1994</td>\n",
       "      <td>Drama, Magic, Romance, Shoujo</td>\n",
       "    </tr>\n",
       "    <tr>\n",
       "      <td>740</td>\n",
       "      <td>9.251397</td>\n",
       "      <td>Bishoujo Senshi Sailor Moon R</td>\n",
       "      <td>Sailor Moon R</td>\n",
       "      <td>TV</td>\n",
       "      <td>Spring 1993</td>\n",
       "      <td>Demons, Magic, Romance, Shoujo</td>\n",
       "    </tr>\n",
       "    <tr>\n",
       "      <td>996</td>\n",
       "      <td>8.987871</td>\n",
       "      <td>Bishoujo Senshi Sailor Moon: Sailor Stars</td>\n",
       "      <td>Sailor Moon Sailor Stars</td>\n",
       "      <td>TV</td>\n",
       "      <td>Spring 1996</td>\n",
       "      <td>Adventure, Comedy, Drama, Fantasy, Magic, Roma...</td>\n",
       "    </tr>\n",
       "    <tr>\n",
       "      <td>5690</td>\n",
       "      <td>8.934628</td>\n",
       "      <td>Nodame Cantabile Finale</td>\n",
       "      <td>NaN</td>\n",
       "      <td>TV</td>\n",
       "      <td>Winter 2010</td>\n",
       "      <td>Comedy, Josei, Music, Romance</td>\n",
       "    </tr>\n",
       "    <tr>\n",
       "      <td>13125</td>\n",
       "      <td>8.928691</td>\n",
       "      <td>Shinsekai yori</td>\n",
       "      <td>From the New World</td>\n",
       "      <td>TV</td>\n",
       "      <td>Fall 2012</td>\n",
       "      <td>Sci-Fi, Mystery, Horror, Psychological, Supern...</td>\n",
       "    </tr>\n",
       "    <tr>\n",
       "      <td>21881</td>\n",
       "      <td>8.880716</td>\n",
       "      <td>Sword Art Online II</td>\n",
       "      <td>Sword Art Online II</td>\n",
       "      <td>TV</td>\n",
       "      <td>Summer 2014</td>\n",
       "      <td>Action, Game, Adventure, Romance, Fantasy</td>\n",
       "    </tr>\n",
       "    <tr>\n",
       "      <td>4477</td>\n",
       "      <td>8.853769</td>\n",
       "      <td>Nodame Cantabile: Paris-hen</td>\n",
       "      <td>NaN</td>\n",
       "      <td>TV</td>\n",
       "      <td>Fall 2008</td>\n",
       "      <td>Music, Slice of Life, Comedy, Romance, Josei</td>\n",
       "    </tr>\n",
       "    <tr>\n",
       "      <td>11981</td>\n",
       "      <td>8.840688</td>\n",
       "      <td>Mahou Shoujo Madoka★Magica Movie 3: Hangyaku n...</td>\n",
       "      <td>Puella Magi Madoka Magica the Movie: Rebellion</td>\n",
       "      <td>Movie</td>\n",
       "      <td>NaN</td>\n",
       "      <td>Psychological, Drama, Magic, Thriller</td>\n",
       "    </tr>\n",
       "  </tbody>\n",
       "</table>\n",
       "</div>"
      ],
      "text/plain": [
       "          score                                              title  \\\n",
       "11757  9.670687                                   Sword Art Online   \n",
       "530    9.578186                        Bishoujo Senshi Sailor Moon   \n",
       "532    9.350300                      Bishoujo Senshi Sailor Moon S   \n",
       "740    9.251397                      Bishoujo Senshi Sailor Moon R   \n",
       "996    8.987871          Bishoujo Senshi Sailor Moon: Sailor Stars   \n",
       "5690   8.934628                            Nodame Cantabile Finale   \n",
       "13125  8.928691                                     Shinsekai yori   \n",
       "21881  8.880716                                Sword Art Online II   \n",
       "4477   8.853769                        Nodame Cantabile: Paris-hen   \n",
       "11981  8.840688  Mahou Shoujo Madoka★Magica Movie 3: Hangyaku n...   \n",
       "\n",
       "                                        title_english   type    premiered  \\\n",
       "11757                                Sword Art Online     TV  Summer 2012   \n",
       "530                                       Sailor Moon     TV  Spring 1992   \n",
       "532                                     Sailor Moon S     TV  Spring 1994   \n",
       "740                                     Sailor Moon R     TV  Spring 1993   \n",
       "996                          Sailor Moon Sailor Stars     TV  Spring 1996   \n",
       "5690                                              NaN     TV  Winter 2010   \n",
       "13125                              From the New World     TV    Fall 2012   \n",
       "21881                             Sword Art Online II     TV  Summer 2014   \n",
       "4477                                              NaN     TV    Fall 2008   \n",
       "11981  Puella Magi Madoka Magica the Movie: Rebellion  Movie          NaN   \n",
       "\n",
       "                                                   genre  \n",
       "11757          Action, Adventure, Fantasy, Game, Romance  \n",
       "530                       Demons, Magic, Romance, Shoujo  \n",
       "532                        Drama, Magic, Romance, Shoujo  \n",
       "740                       Demons, Magic, Romance, Shoujo  \n",
       "996    Adventure, Comedy, Drama, Fantasy, Magic, Roma...  \n",
       "5690                       Comedy, Josei, Music, Romance  \n",
       "13125  Sci-Fi, Mystery, Horror, Psychological, Supern...  \n",
       "21881          Action, Game, Adventure, Romance, Fantasy  \n",
       "4477        Music, Slice of Life, Comedy, Romance, Josei  \n",
       "11981              Psychological, Drama, Magic, Thriller  "
      ]
     },
     "execution_count": 6,
     "metadata": {},
     "output_type": "execute_result"
    }
   ],
   "source": [
    "prediction.sort_values(by='score', ascending=False).head(10)"
   ]
  }
 ],
 "metadata": {
  "kernelspec": {
   "display_name": "animerec",
   "language": "python",
   "name": "animerec"
  },
  "language_info": {
   "codemirror_mode": {
    "name": "ipython",
    "version": 3
   },
   "file_extension": ".py",
   "mimetype": "text/x-python",
   "name": "python",
   "nbconvert_exporter": "python",
   "pygments_lexer": "ipython3",
   "version": "3.7.4"
  }
 },
 "nbformat": 4,
 "nbformat_minor": 4
}
