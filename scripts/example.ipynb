{
 "cells": [
  {
   "cell_type": "markdown",
   "metadata": {},
   "source": [
    "# Building an Anime Recommender System"
   ]
  },
  {
   "cell_type": "code",
   "execution_count": 1,
   "metadata": {},
   "outputs": [],
   "source": [
    "import sys\n",
    "sys.path.append(\"..\")\n",
    "\n",
    "from animerec import datasets, utils\n",
    "import pickle\n",
    "import pandas as pd\n",
    "import numpy as np\n",
    "import matplotlib.pyplot as plt"
   ]
  },
  {
   "cell_type": "markdown",
   "metadata": {},
   "source": [
    "### 1. Load Dataset and Model"
   ]
  },
  {
   "cell_type": "code",
   "execution_count": 2,
   "metadata": {},
   "outputs": [],
   "source": [
    "sys.modules['datasets'] = datasets\n",
    "sys.modules['utils'] = utils\n",
    "\n",
    "# Load dataset for cindex, id_to_anime, etc.\n",
    "pickle_in = open(\"../data/MyAnimeList.pickle\", 'rb')\n",
    "data = pickle.load(pickle_in)\n",
    "pickle_in.close()\n",
    "\n",
    "# Load model trained on server.\n",
    "pickle_in = open(\"../animerec/model/model.pickle\", 'rb')\n",
    "model = pickle.load(pickle_in)\n",
    "pickle_in.close()"
   ]
  },
  {
   "cell_type": "markdown",
   "metadata": {},
   "source": [
    "### 3. Print Features in Model"
   ]
  },
  {
   "cell_type": "code",
   "execution_count": 3,
   "metadata": {},
   "outputs": [
    {
     "name": "stdout",
     "output_type": "stream",
     "text": [
      "Printing 7 of 40 features.\n",
      "Feature 1:\n",
      "\tmax : (+4.0) Suzumiya Haruhi no Yuuutsu\n",
      "\tmin : (-6.0) Naruto: Shippuuden\n",
      "Feature 2:\n",
      "\tmax : (+5.0) .hack//Sign\n",
      "\tmin : (-3.1) Tsubasa Chronicle 2nd Season\n",
      "Feature 3:\n",
      "\tmax : (+4.7) Sword Art Online\n",
      "\tmin : (-3.3) Higashi no Eden Movie II: Paradise Lost\n",
      "Feature 4:\n",
      "\tmax : (+7.0) Pingu in the City\n",
      "\tmin : (-4.1) Lucky☆Star\n",
      "Feature 5:\n",
      "\tmax : (+4.5) Bobobo-bo Bo-bobo\n",
      "\tmin : (-4.4) Aki-Sora\n",
      "Feature 6:\n",
      "\tmax : (+5.9) Ore no Imouto ga Konnani Kawaii Wake ga Nai. Specials\n",
      "\tmin : (-5.2) School Days\n",
      "Feature 7:\n",
      "\tmax : (+3.6) Boku no Pico\n",
      "\tmin : (-7.6) School Days\n"
     ]
    }
   ],
   "source": [
    "utils.print_features(model, data, nfeatures=7)"
   ]
  },
  {
   "cell_type": "markdown",
   "metadata": {},
   "source": [
    "### 4. Webscrape current profile and create prediction"
   ]
  },
  {
   "cell_type": "code",
   "execution_count": 4,
   "metadata": {},
   "outputs": [
    {
     "name": "stdout",
     "output_type": "stream",
     "text": [
      "Scraped 300 additional anime from https://myanimelist.net/animelist/Manuel/load.json?offset=0&status=7\n",
      "Scraped 159 additional anime from https://myanimelist.net/animelist/Manuel/load.json?offset=300&status=7\n",
      "Top 30 Anime Predictions\n",
      "\t(10.9413) Nana\n",
      "\t(10.6536) Kenpuu Denki Berserk\n",
      "\t(9.2883) Paradise Kiss\n",
      "\t(9.0980) Devilman: Crybaby\n",
      "\t(9.0835) Ginga Eiyuu Densetsu\n",
      "\t(8.8857) Nodame Cantabile Finale\n",
      "\t(8.8700) Koe no Katachi\n",
      "\t(8.6640) Kono Sekai no Katasumi ni\n",
      "\t(8.6634) Nodame Cantabile: Paris-hen\n",
      "\t(8.6279) Chihayafuru\n",
      "\t(8.5583) Chihayafuru 2\n",
      "\t(8.5566) Steins;Gate: Oukoubakko no Poriomania\n",
      "\t(8.5531) Ginga Eiyuu Densetsu Gaiden\n",
      "\t(8.5055) Berserk: Ougon Jidai-hen III - Kourin\n",
      "\t(8.4896) Hunter x Hunter (2011)\n",
      "\t(8.4829) Aria The Origination\n",
      "\t(8.4700) Kaguya-hime no Monogatari\n",
      "\t(8.4632) Tokyo Ghoul\n",
      "\t(8.4530) Redline\n",
      "\t(8.4440) Steins;Gate: Kyoukaimenjou no Missing Link - Divide By Zero\n",
      "\t(8.4364) Tokyo Ghoul √A\n",
      "\t(8.4293) Mirai Nikki (TV)\n",
      "\t(8.3890) Kiseijuu: Sei no Kakuritsu\n",
      "\t(8.3717) Eve no Jikan (Movie)\n",
      "\t(8.3701) Ginga Eiyuu Densetsu: Arata Naru Tatakai no Overture\n",
      "\t(8.3584) Ginga Eiyuu Densetsu Gaiden (1999)\n",
      "\t(8.3189) JoJo no Kimyou na Bouken: Diamond wa Kudakenai\n",
      "\t(8.3188) Mushishi Zoku Shou 2nd Season\n",
      "\t(8.3049) Kara no Kyoukai 7: Satsujin Kousatsu (Kou)\n",
      "\t(8.3007) Ping Pong The Animation\n",
      "\n",
      "Bottom 10 Anime Predictions\n",
      "\t(0.9135) Final Fantasy: Unlimited\n",
      "\t(0.8890) Makura no Danshi\n",
      "\t(0.7385) Tenshi Kinryouku\n",
      "\t(0.7340) Angel&#039;s Feather\n",
      "\t(0.6950) Suki na Mono wa Suki Dakara Shou ga Nai!!\n",
      "\t(0.4653) 07-Ghost\n",
      "\t(0.1175) Zombie-Loan\n",
      "\t(0.0235) Junjou Romantica 2\n",
      "\t(-0.6718) Junjou Romantica\n",
      "\t(-0.6890) Gakuen Heaven\n"
     ]
    }
   ],
   "source": [
    "myprofile = utils.get_user_anime_list('Manuel')\n",
    "x = utils.get_score_vector_from_user_anime_list(myprofile, data.cindex)\n",
    "xhat = model.predict(x)\n",
    "prediction = utils.prediction_to_dataframe(xhat, myprofile, data.cindex, keep_all=False)\n",
    "\n",
    "print('Top 30 Anime Predictions')\n",
    "for i in prediction.sort_values(ascending=False).head(30).index:\n",
    "    str_ = (\n",
    "        f\"\\t({prediction[i]:2.4f}) {data.get_anime_by_id(i).title}\"\n",
    "    )\n",
    "    print(str_)\n",
    "    \n",
    "print('\\nBottom 10 Anime Predictions')\n",
    "for i in prediction.sort_values(ascending=False).tail(10).index:\n",
    "    str_ = (\n",
    "        f\"\\t({prediction[i]:2.4f}) {data.get_anime_by_id(i).title}\"\n",
    "    )\n",
    "    print(str_)"
   ]
  }
 ],
 "metadata": {
  "kernelspec": {
   "display_name": "animerec",
   "language": "python",
   "name": "animerec"
  },
  "language_info": {
   "codemirror_mode": {
    "name": "ipython",
    "version": 3
   },
   "file_extension": ".py",
   "mimetype": "text/x-python",
   "name": "python",
   "nbconvert_exporter": "python",
   "pygments_lexer": "ipython3",
   "version": "3.7.4"
  }
 },
 "nbformat": 4,
 "nbformat_minor": 4
}
