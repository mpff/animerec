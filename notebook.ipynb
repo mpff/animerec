{
 "cells": [
  {
   "cell_type": "markdown",
   "metadata": {},
   "source": [
    "# Building an Anime Recommender System"
   ]
  },
  {
   "cell_type": "code",
   "execution_count": 1,
   "metadata": {},
   "outputs": [],
   "source": [
    "import datasets, utils\n",
    "import pandas as pd\n",
    "import numpy as np\n",
    "import matplotlib.pyplot as plt\n",
    "from scipy.sparse import csr_matrix, vstack\n",
    "\n",
    "MY_ID = 156618"
   ]
  },
  {
   "cell_type": "code",
   "execution_count": 2,
   "metadata": {},
   "outputs": [],
   "source": [
    "animes = pd.read_csv('data/AnimeList.csv')\n",
    "anime_dict = [{f'{a.anime_id}': a.title} for i,a in animes.iterrows()]\n",
    "anime_ids = animes.sort_values(by=\"anime_id\").anime_id.unique()"
   ]
  },
  {
   "cell_type": "code",
   "execution_count": null,
   "metadata": {},
   "outputs": [],
   "source": [
    "size = 3e6\n",
    "reader = pd.read_csv('data/UserAnimeList.csv', chunksize = size)\n",
    "\n",
    "chunk_list = []\n",
    "\n",
    "# Each chunk is in dataframe format\n",
    "for chunk in reader:  \n",
    "    chunk = chunk[['username', 'anime_id', 'my_score']]\n",
    "    chunk = chunk[chunk.my_score != 0]\n",
    "    included_ids = chunk.anime_id.unique()\n",
    "    \n",
    "    # Transform Dataframe to (N=#users x K=#animes) matrix, with scores as values\n",
    "    chunk = chunk.pivot(index=\"username\", columns=\"anime_id\", values=\"my_score\")\n",
    "    \n",
    "    # Add dimensions so that we can easily vstack\n",
    "    missing_cols = sorted(set(anime_ids) - set(included_ids))\n",
    "    chunk = chunk.reindex(columns = chunk.columns.tolist() + missing_cols)\n",
    "    \n",
    "    chunk = csr_matrix(chunk.fillna(0))  # Convert to SciPy sparse matrix\n",
    "    \n",
    "    chunk_list.append(chunk)"
   ]
  },
  {
   "cell_type": "code",
   "execution_count": null,
   "metadata": {},
   "outputs": [],
   "source": [
    "X = vstack(chunk_list, format=\"csr\")"
   ]
  },
  {
   "cell_type": "code",
   "execution_count": null,
   "metadata": {},
   "outputs": [],
   "source": [
    "from sklearn.decomposition import NMF\n",
    "model = NMF(n_components=7, init='nndsvda', shuffle=True)\n",
    "W = model.fit_transform(X)\n",
    "H = model.components_"
   ]
  },
  {
   "cell_type": "code",
   "execution_count": null,
   "metadata": {},
   "outputs": [],
   "source": [
    "H.shape"
   ]
  },
  {
   "cell_type": "code",
   "execution_count": null,
   "metadata": {},
   "outputs": [],
   "source": []
  },
  {
   "cell_type": "code",
   "execution_count": null,
   "metadata": {},
   "outputs": [],
   "source": []
  },
  {
   "cell_type": "code",
   "execution_count": null,
   "metadata": {},
   "outputs": [],
   "source": []
  },
  {
   "cell_type": "code",
   "execution_count": null,
   "metadata": {},
   "outputs": [],
   "source": []
  }
 ],
 "metadata": {
  "kernelspec": {
   "display_name": "animerec",
   "language": "python",
   "name": "animerec"
  },
  "language_info": {
   "codemirror_mode": {
    "name": "ipython",
    "version": 3
   },
   "file_extension": ".py",
   "mimetype": "text/x-python",
   "name": "python",
   "nbconvert_exporter": "python",
   "pygments_lexer": "ipython3",
   "version": "3.7.3"
  }
 },
 "nbformat": 4,
 "nbformat_minor": 4
}
