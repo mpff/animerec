{
 "cells": [
  {
   "cell_type": "markdown",
   "metadata": {},
   "source": [
    "# Building an Anime Recommender System"
   ]
  },
  {
   "cell_type": "code",
   "execution_count": 1,
   "metadata": {},
   "outputs": [],
   "source": [
    "import datasets, utils\n",
    "import pandas as pd\n",
    "import numpy as np\n",
    "import matplotlib.pyplot as plt\n",
    "from scipy.sparse import csr_matrix, vstack"
   ]
  },
  {
   "cell_type": "code",
   "execution_count": 2,
   "metadata": {},
   "outputs": [],
   "source": [
    "animes = pd.read_csv('data/AnimeList.csv')\n",
    "anime_dict = {a.anime_id: a.title for i,a in animes.iterrows()}\n",
    "\n",
    "# If an English title exists. Replace the original title.\n",
    "for i,a in animes.iterrows():\n",
    "    if pd.isna(a.title_english):\n",
    "        anime_dict[a.anime_id] = a.title_english\n",
    "        \n",
    "anime_ids = animes.sort_values(by=\"anime_id\").anime_id.unique()"
   ]
  },
  {
   "cell_type": "code",
   "execution_count": 3,
   "metadata": {},
   "outputs": [],
   "source": [
    "size = 3e6\n",
    "reader = pd.read_csv('data/UserAnimeList.csv', chunksize = size)\n",
    "\n",
    "chunk_list = []\n",
    "userlist = []\n",
    "\n",
    "# Each chunk is in dataframe format\n",
    "for chunk in reader:  \n",
    "    chunk = chunk[['username', 'anime_id', 'my_score']]\n",
    "    chunk = chunk[chunk.my_score != 0]\n",
    "    \n",
    "    # Transform Dataframe to (N=#users x K=#animes) matrix, with scores as values\n",
    "    chunk = chunk.pivot(index=\"username\", columns=\"anime_id\", values=\"my_score\")\n",
    "    \n",
    "    # Add dimensions so that we can easily vstack\n",
    "    chunk = chunk.reindex(columns = anime_ids)\n",
    "    \n",
    "    # Extract userlist\n",
    "    userlist = userlist + chunk.index.tolist()\n",
    "    \n",
    "    chunk = csr_matrix(chunk.fillna(0))  # Convert to SciPy sparse matrix\n",
    "    \n",
    "    chunk_list.append(chunk)"
   ]
  },
  {
   "cell_type": "code",
   "execution_count": 4,
   "metadata": {},
   "outputs": [],
   "source": [
    "X = vstack(chunk_list, format=\"csr\")"
   ]
  },
  {
   "cell_type": "code",
   "execution_count": 5,
   "metadata": {},
   "outputs": [],
   "source": [
    "from sklearn.decomposition import NMF\n",
    "model = NMF(n_components=7, init='nndsvda', shuffle=True)\n",
    "W = model.fit_transform(X)\n",
    "H = model.components_"
   ]
  },
  {
   "cell_type": "code",
   "execution_count": 51,
   "metadata": {},
   "outputs": [
    {
     "name": "stdout",
     "output_type": "stream",
     "text": [
      "Cowboy Bebop\n",
      "Death Note\n",
      "Fullmetal Alchemist: Brotherhood\n",
      "Toki wo Kakeru Shoujo\n",
      "Howl no Ugoku Shiro\n",
      "Samurai Champloo\n",
      "Byousoku 5 Centimeter\n",
      "Ghost in the Shell\n",
      "Bakemonogatari\n",
      "Akira\n",
      "Tonari no Totoro\n",
      "Evangelion: 1.0 You Are (Not) Alone\n",
      "Higurashi no Naku Koro ni\n",
      "Summer Wars\n",
      "Mushishi\n",
      "Hotaru no Haka\n",
      "Paprika\n",
      "Evangelion: 2.0 You Can (Not) Advance\n",
      "Clannad\n",
      "Serial Experiments Lain\n",
      "Clannad: After Story\n",
      "Trigun\n",
      "Kaze no Tani no Nausicaä\n",
      "Fate/Zero\n",
      "Toradora!\n",
      "K-On!\n",
      "Angel Beats!\n",
      "Higashi no Eden\n",
      "Ergo Proxy\n",
      "Cowboy Bebop: Tengoku no Tobira\n",
      "Perfect Blue\n",
      "Lucky☆Star\n",
      "Great Teacher Onizuka\n",
      "Soul Eater\n",
      "Shingeki no Kyojin\n",
      "Tenkuu no Shiro Laputa\n",
      "Ano Hi Mita Hana no Namae wo Bokutachi wa Mada Shiranai.\n",
      "Fate/Zero 2nd Season\n",
      "Ghost in the Shell: Stand Alone Complex\n",
      "Kara no Kyoukai 2: Satsujin Kousatsu (Zen)\n",
      "Hellsing Ultimate\n",
      "Higurashi no Naku Koro ni Kai\n",
      "Monster\n",
      "Kara no Kyoukai 5: Mujun Rasen\n",
      "Majo no Takkyuubin\n",
      "Kara no Kyoukai 3: Tsuukaku Zanryuu\n",
      "Psycho-Pass\n",
      "Suzumiya Haruhi no Yuuutsu (2009)\n",
      "Sayonara Zetsubou Sensei\n",
      "Dragon Ball Z\n",
      "Bleach\n",
      "Kara no Kyoukai 4: Garan no Dou\n",
      "nan\n",
      "Ookami Kodomo no Ame to Yuki\n",
      "Stranger: Mukou Hadan\n",
      "Fullmetal Alchemist: The Conqueror of Shamballa\n",
      "Kenpuu Denki Berserk\n",
      "Usagi Drop\n",
      "Redline\n",
      "Nisemonogatari\n",
      "Full Metal Panic!\n",
      "Kara no Kyoukai 7: Satsujin Kousatsu (Kou)\n",
      "Nichijou\n",
      "Azumanga Daioh\n",
      "Fate/stay night\n",
      "Mousou Dairinin\n",
      "Dragon Ball\n",
      "Tokyo Godfathers\n",
      "Ookami to Koushinryou II\n",
      "Eureka Seven\n",
      "Haibane Renmei\n",
      "Rurouni Kenshin: Meiji Kenkaku Romantan - Tsuioku-hen\n",
      "Shinsekai yori\n",
      "Yojouhan Shinwa Taikei\n",
      "Naruto: Shippuuden\n",
      "Gake no Ue no Ponyo\n",
      "Highschool of the Dead\n",
      "Kara no Kyoukai 6: Boukyaku Rokuon\n",
      "Darker than Black: Ryuusei no Gemini\n",
      "nan\n",
      "Full Metal Panic? Fumoffu\n",
      "Steins;Gate: Oukoubakko no Poriomania\n",
      "Clannad: Mou Hitotsu no Sekai, Tomoyo-hen\n",
      "Kotonoha no Niwa\n",
      "Kumo no Mukou, Yakusoku no Basho\n",
      "One Piece\n",
      "Katanagatari\n",
      "JoJo no Kimyou na Bouken (TV)\n",
      "Hoshi no Koe\n",
      "Another\n",
      "Ghost in the Shell: Stand Alone Complex 2nd GIG\n",
      "K-On!!\n",
      "Evangelion: 3.0 You Can (Not) Redo\n",
      "Ghost in the Shell 2: Innocence\n",
      "Beck\n",
      "Kino no Tabi: The Beautiful World\n",
      "Rurouni Kenshin: Meiji Kenkaku Romantan\n",
      "One Punch Man\n",
      "Ouran Koukou Host Club\n",
      "Golden Boy\n",
      "Gintama\n",
      "Shiki\n",
      "nan\n",
      "Sakamichi no Apollon\n",
      "Sennen Joyuu\n",
      "Mimi wo Sumaseba\n",
      "Mirai Nikki (TV)\n",
      "Kurenai no Buta\n",
      "Mahou Shoujo Madoka★Magica Movie 3: Hangyaku no Monogatari\n",
      "Ore no Imouto ga Konnani Kawaii Wake ga Nai\n",
      "Nekomonogatari: Kuro\n",
      "Full Metal Panic! The Second Raid\n",
      "Gyakkyou Burai Kaiji: Ultimate Survivor\n",
      "Karigurashi no Arrietty\n",
      "nan\n",
      "nan\n",
      "Chobits\n",
      "Monogatari Series: Second Season\n",
      "Clannad: After Story - Mou Hitotsu no Sekai, Kyou-hen\n",
      "Wolf&#039;s Rain\n",
      "Deadman Wonderland\n",
      "Kanon (2006)\n",
      "Planetes\n",
      "Nodame Cantabile\n",
      "Tokyo Magnitude 8.0\n",
      "Afro Samurai\n",
      "Steins;Gate Movie: Fuka Ryouiki no Déjà vu\n",
      "Tsumiki no Ie\n",
      "School Days\n",
      "Sword Art Online\n",
      "Arakawa Under the Bridge\n",
      "Ping Pong The Animation\n",
      "Hunter x Hunter (2011)\n",
      "Black Lagoon: Roberta&#039;s Blood Trail\n",
      "Yuu☆Yuu☆Hakusho\n",
      "Neko no Ongaeshi\n",
      "Genshiken\n",
      "Natsume Yuujinchou\n",
      "Pokemon\n",
      "Danshi Koukousei no Nichijou\n",
      "nan\n",
      "Higashi no Eden Movie I: The King of Eden\n",
      "Air\n",
      "Jin-Rou\n",
      "Chuunibyou demo Koi ga Shitai!\n",
      "nan\n",
      "Toaru Majutsu no Index\n",
      "Mushishi Zoku Shou\n",
      "nan\n",
      "Hyouka\n",
      "Zankyou no Terror\n",
      "Digimon Adventure\n",
      "Gankutsuou\n",
      "Elfen Lied Special\n",
      "Bleach Movie 1: Memories of Nobody\n",
      "Eve no Jikan (Movie)\n",
      "D.Gray-man\n",
      "Hajime no Ippo\n",
      "Mononoke\n",
      "Kiseijuu: Sei no Kakuritsu\n",
      "Pokemon: Mewtwo no Gyakushuu\n",
      "Dragon Ball GT\n",
      "Berserk: Ougon Jidai-hen I - Haou no Tamago\n",
      "nan\n",
      "Last Exile\n",
      "Blood+\n",
      "Hachimitsu to Clover\n",
      "Toaru Kagaku no Railgun\n",
      "Kaze Tachinu\n",
      "Kanojo to Kanojo no Neko\n",
      "Tengen Toppa Gurren Lagann Movie 2: Lagann-hen\n",
      "JoJo no Kimyou na Bouken: Stardust Crusaders\n",
      "nan\n",
      "Higurashi no Naku Koro ni Rei\n",
      "Fairy Tail\n",
      "Canaan\n",
      "Nana\n",
      "InuYasha\n",
      "nan\n",
      "Rainbow: Nisha Rokubou no Shichinin\n",
      "Tengen Toppa Gurren Lagann Movie 1: Gurren-hen\n",
      "Seirei no Moribito\n",
      "Bakuman.\n",
      "Boku dake ga Inai Machi\n",
      "Vampire Hunter D (2000)\n",
      "nan\n",
      "Fate/stay night: Unlimited Blade Works\n",
      "Bleach Movie 2: The DiamondDust Rebellion - Mou Hitotsu no Hyourinmaru\n",
      "nan\n",
      "Mahou Shoujo Madoka★Magica Movie 1: Hajimari no Monogatari\n",
      "Watashi ga Motenai no wa Dou Kangaetemo Omaera ga Warui!\n",
      "Dennou Coil\n",
      "Mahou Shoujo Madoka★Magica Movie 2: Eien no Monogatari\n",
      "Death Parade\n",
      "Ginga Eiyuu Densetsu\n",
      "Phantom: Requiem for the Phantom\n",
      "Jigoku Shoujo\n",
      "K-On! Movie\n",
      "Durarara!! Specials\n",
      "Kuragehime\n"
     ]
    }
   ],
   "source": [
    "PYTHON_ID = ul.index('Manuel')\n",
    "\n",
    "prediction = pd.Series(np.dot(W[PYTHON_ID],H), index=anime_ids)\n",
    "_, watched = X[PYTHON_ID].nonzero()\n",
    "watched = anime_ids[watched]\n",
    "prediction = prediction.drop(list(watched))  # watched has python index notation!\n",
    "\n",
    "for i in prediction.sort_values(ascending=False).head(200).index:\n",
    "    print(anime_dict[i])"
   ]
  },
  {
   "cell_type": "code",
   "execution_count": 44,
   "metadata": {},
   "outputs": [],
   "source": [
    "from sklearn.manifold import TSNE\n",
    "from sklearn.decomposition import TruncatedSVD\n",
    "svd = TruncatedSVD(n_components=7, n_iter=7)\n",
    "X_trans = svd.fit_transform(X)"
   ]
  },
  {
   "cell_type": "code",
   "execution_count": 45,
   "metadata": {},
   "outputs": [],
   "source": [
    "X_embedded = TSNE(n_components=2).fit_transform(X_trans)"
   ]
  },
  {
   "cell_type": "code",
   "execution_count": 48,
   "metadata": {},
   "outputs": [
    {
     "data": {
      "text/plain": [
       "<matplotlib.collections.PathCollection at 0x7fe6b4e14b38>"
      ]
     },
     "execution_count": 48,
     "metadata": {},
     "output_type": "execute_result"
    },
    {
     "data": {
      "image/png": "[encoded data removed]",
      "text/plain": [
       "<Figure size 432x288 with 1 Axes>"
      ]
     },
     "metadata": {
      "needs_background": "light"
     },
     "output_type": "display_data"
    }
   ],
   "source": [
    "plt.scatter(X_embedded[:100,1], X_embedded[:100,1])"
   ]
  },
  {
   "cell_type": "code",
   "execution_count": 54,
   "metadata": {},
   "outputs": [
    {
     "data": {
      "text/plain": [
       "<pandas.io.parsers.TextFileReader at 0x7fe6b7d5a4e0>"
      ]
     },
     "execution_count": 54,
     "metadata": {},
     "output_type": "execute_result"
    }
   ],
   "source": [
    "reader"
   ]
  },
  {
   "cell_type": "code",
   "execution_count": null,
   "metadata": {},
   "outputs": [],
   "source": []
  },
  {
   "cell_type": "code",
   "execution_count": null,
   "metadata": {},
   "outputs": [],
   "source": []
  }
 ],
 "metadata": {
  "kernelspec": {
   "display_name": "animerec",
   "language": "python",
   "name": "animerec"
  },
  "language_info": {
   "codemirror_mode": {
    "name": "ipython",
    "version": 3
   },
   "file_extension": ".py",
   "mimetype": "text/x-python",
   "name": "python",
   "nbconvert_exporter": "python",
   "pygments_lexer": "ipython3",
   "version": "3.7.3"
  }
 },
 "nbformat": 4,
 "nbformat_minor": 4
}
