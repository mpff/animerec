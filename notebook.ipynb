{
 "cells": [
  {
   "cell_type": "markdown",
   "metadata": {},
   "source": [
    "# Building an Anime Recommender System"
   ]
  },
  {
   "cell_type": "code",
   "execution_count": 1,
   "metadata": {},
   "outputs": [],
   "source": [
    "import datasets, utils\n",
    "import pandas as pd\n",
    "import numpy as np\n",
    "import matplotlib.pyplot as plt"
   ]
  },
  {
   "cell_type": "markdown",
   "metadata": {},
   "source": [
    "### 1. Load Dataset"
   ]
  },
  {
   "cell_type": "code",
   "execution_count": 2,
   "metadata": {},
   "outputs": [
    {
     "name": "stderr",
     "output_type": "stream",
     "text": [
      "0it [00:00, ?it/s]\n"
     ]
    }
   ],
   "source": [
    "data = datasets.MyAnimeList(debug=True, chunksize=1e6)"
   ]
  },
  {
   "cell_type": "markdown",
   "metadata": {},
   "source": [
    "### 2. Build Prediction"
   ]
  },
  {
   "cell_type": "code",
   "execution_count": null,
   "metadata": {},
   "outputs": [
    {
     "name": "stdout",
     "output_type": "stream",
     "text": [
      "Iteration 0 :  Training Error = 10.06623648106887  Time = 27.422255992889404\n",
      "Iteration 1 :  Training Error = 1.7199800963146352  Time = 71.73394918441772\n",
      "Iteration 2 :  Training Error = 1.502585815273078  Time = 73.16865062713623\n",
      "Iteration 3 :  Training Error = 1.403604679025581  Time = 72.7413239479065\n",
      "Iteration 4 :  Training Error = 1.366442497540948  Time = 76.49293279647827\n",
      "Iteration 5 :  Training Error = 1.3479733876527447  Time = 70.68416333198547\n",
      "Iteration 6 :  Training Error = 1.3383835017043941  Time = 70.82092547416687\n",
      "Iteration 7 :  Training Error = 1.3322652838221416  Time = 73.38173294067383\n",
      "Iteration 8 :  Training Error = 1.3283726618683505  Time = 73.1397795677185\n"
     ]
    }
   ],
   "source": [
    "nfeatures = 7\n",
    "steps = 20\n",
    "model = utils.MatrixFactorization(k=nfeatures, reg=20.)\n",
    "model.fit(data.X,steps=steps)"
   ]
  },
  {
   "cell_type": "code",
   "execution_count": null,
   "metadata": {},
   "outputs": [],
   "source": [
    "for k in range(nfeatures):\n",
    "    jmax = model.V[:,k].argmax()\n",
    "    jmin = model.V[:,k].argmin()\n",
    "    idmax = data.cindex[jmax]\n",
    "    idmin = data.cindex[jmin]\n",
    "    amax = data.get_anime_by_id(idmax)\n",
    "    amin = data.get_anime_by_id(idmin)\n",
    "    str_ = (\n",
    "        f'Feature {k+1}:\\n'\n",
    "        f'\\tmax : ({model.V[jmax,k]:+2.1f}) {amax.title}\\n'\n",
    "        f'\\tmin : ({model.V[jmin,k]:+2.1f}) {amin.title}'\n",
    "    )\n",
    "    print(str_)"
   ]
  },
  {
   "cell_type": "markdown",
   "metadata": {},
   "source": [
    "## "
   ]
  },
  {
   "cell_type": "code",
   "execution_count": null,
   "metadata": {},
   "outputs": [],
   "source": []
  },
  {
   "cell_type": "markdown",
   "metadata": {},
   "source": [
    "### ToDo\n",
    "* Predict scores of users not in dataset.\n",
    "* REST Api: https://medium.com/@mahdi04/train-predict-simple-machine-learning-models-with-django-rest-76ce46bf2868"
   ]
  },
  {
   "cell_type": "markdown",
   "metadata": {},
   "source": [
    "### 3. Webscrape current animelist"
   ]
  },
  {
   "cell_type": "code",
   "execution_count": null,
   "metadata": {},
   "outputs": [],
   "source": []
  },
  {
   "cell_type": "code",
   "execution_count": null,
   "metadata": {},
   "outputs": [],
   "source": [
    "myprofile = utils.get_user_anime_list('Manuel')"
   ]
  },
  {
   "cell_type": "code",
   "execution_count": null,
   "metadata": {},
   "outputs": [],
   "source": [
    "index = data.users[data.users.usernamedex('Manuel').us\n",
    "\n",
    "prediction = pd.Series(np.dot(W[index],H), index=anime_ids)\n",
    "watched = [a['id_ref'] for a in myanimelist if a['id_ref'] in prediction.index]\n",
    "prediction = prediction.drop(list(watched))  # Note: columns == anime_ids's\n",
    "\n",
    "for i in prediction.sort_values(ascending=False).head(10).index:\n",
    "    print(anime_dict[i])"
   ]
  }
 ],
 "metadata": {
  "kernelspec": {
   "display_name": "animerec",
   "language": "python",
   "name": "animerec"
  },
  "language_info": {
   "codemirror_mode": {
    "name": "ipython",
    "version": 3
   },
   "file_extension": ".py",
   "mimetype": "text/x-python",
   "name": "python",
   "nbconvert_exporter": "python",
   "pygments_lexer": "ipython3",
   "version": "3.7.4"
  }
 },
 "nbformat": 4,
 "nbformat_minor": 4
}
