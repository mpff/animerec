{
 "cells": [
  {
   "cell_type": "markdown",
   "metadata": {},
   "source": [
    "# Building an Anime Recommender System"
   ]
  },
  {
   "cell_type": "code",
   "execution_count": 1,
   "metadata": {},
   "outputs": [],
   "source": [
    "from animerec import datasets, utils\n",
    "import pickle\n",
    "import pandas as pd\n",
    "import numpy as np\n",
    "import matplotlib.pyplot as plt"
   ]
  },
  {
   "cell_type": "markdown",
   "metadata": {},
   "source": [
    "### 1. Load Dataset and Model"
   ]
  },
  {
   "cell_type": "code",
   "execution_count": 2,
   "metadata": {},
   "outputs": [],
   "source": [
    "import sys\n",
    "sys.modules['datasets'] = datasets\n",
    "sys.modules['utils'] = utils\n",
    "\n",
    "# Load dataset for cindex, id_to_anime, etc.\n",
    "pickle_in = open(\"data/MyAnimeList.pickle\", 'rb')\n",
    "data = pickle.load(pickle_in)\n",
    "pickle_in.close()\n",
    "\n",
    "# Load model trained on server.\n",
    "pickle_in = open(\"animerec/model/model.pickle\", 'rb')\n",
    "model = pickle.load(pickle_in)\n",
    "pickle_in.close()"
   ]
  },
  {
   "cell_type": "markdown",
   "metadata": {},
   "source": [
    "### 3. Print Features in Model"
   ]
  },
  {
   "cell_type": "code",
   "execution_count": 3,
   "metadata": {},
   "outputs": [
    {
     "name": "stdout",
     "output_type": "stream",
     "text": [
      "Feature 1:\n",
      "\tmax : (+4.0) Suzumiya Haruhi no Yuuutsu\n",
      "\tmin : (-6.0) Naruto: Shippuuden\n",
      "Feature 2:\n",
      "\tmax : (+5.0) .hack//Sign\n",
      "\tmin : (-3.1) Tsubasa Chronicle 2nd Season\n",
      "Feature 3:\n",
      "\tmax : (+4.7) Sword Art Online\n",
      "\tmin : (-3.3) Higashi no Eden Movie II: Paradise Lost\n",
      "Feature 4:\n",
      "\tmax : (+7.0) Pingu in the City\n",
      "\tmin : (-4.1) Lucky☆Star\n",
      "Feature 5:\n",
      "\tmax : (+4.5) Bobobo-bo Bo-bobo\n",
      "\tmin : (-4.4) Aki-Sora\n",
      "Feature 6:\n",
      "\tmax : (+5.9) Ore no Imouto ga Konnani Kawaii Wake ga Nai. Specials\n",
      "\tmin : (-5.2) School Days\n",
      "Feature 7:\n",
      "\tmax : (+3.6) Boku no Pico\n",
      "\tmin : (-7.6) School Days\n",
      "Feature 8:\n",
      "\tmax : (+3.6) Vampire Knight: Guilty\n",
      "\tmin : (-3.9) Hachimitsu to Clover\n",
      "Feature 9:\n",
      "\tmax : (+5.4) Dragon Ball GT\n",
      "\tmin : (-4.1) Aku no Hana\n",
      "Feature 10:\n",
      "\tmax : (+6.9) One Piece\n",
      "\tmin : (-2.9) Princess Princess\n",
      "Feature 11:\n",
      "\tmax : (+4.2) School Days\n",
      "\tmin : (-5.7) Sword Art Online II\n",
      "Feature 12:\n",
      "\tmax : (+4.6) Neon Genesis Evangelion\n",
      "\tmin : (-4.2) Shinsekai yori\n",
      "Feature 13:\n",
      "\tmax : (+4.3) Bokusatsu Tenshi Dokuro-chan\n",
      "\tmin : (-3.7) K-On!!\n",
      "Feature 14:\n",
      "\tmax : (+5.1) Pupa\n",
      "\tmin : (-4.4) Tenshi Kinryouku\n",
      "Feature 15:\n",
      "\tmax : (+4.5) Poputepipikku\n",
      "\tmin : (-5.3) Aku no Hana\n",
      "Feature 16:\n",
      "\tmax : (+5.4) Aku no Hana\n",
      "\tmin : (-3.6) Green Green\n",
      "Feature 17:\n",
      "\tmax : (+3.4) Texhnolyze\n",
      "\tmin : (-5.9) Suzumiya Haruhi no Yuuutsu (2009)\n",
      "Feature 18:\n",
      "\tmax : (+4.5) Diabolik Lovers\n",
      "\tmin : (-7.2) School Days\n",
      "Feature 19:\n",
      "\tmax : (+3.7) Dragon Ball Z Movie 11: Super Senshi Gekiha!! Katsu no wa Ore da\n",
      "\tmin : (-5.7) Boku no Pico\n",
      "Feature 20:\n",
      "\tmax : (+3.8) Dragon Ball Super\n",
      "\tmin : (-3.4) Pupa\n",
      "Feature 21:\n",
      "\tmax : (+4.6) Neon Genesis Evangelion: The End of Evangelion\n",
      "\tmin : (-4.5) Ore no Imouto ga Konnani Kawaii Wake ga Nai. Specials\n",
      "Feature 22:\n",
      "\tmax : (+2.5) Poputepipikku\n",
      "\tmin : (-6.6) Berserk\n",
      "Feature 23:\n",
      "\tmax : (+6.2) Pico x CoCo x Chico\n",
      "\tmin : (-4.5) Dragon Ball GT\n",
      "Feature 24:\n",
      "\tmax : (+4.4) Bokura ga Ita\n",
      "\tmin : (-4.5) Angel Beats!\n",
      "Feature 25:\n",
      "\tmax : (+2.8) Yu☆Gi☆Oh! 5D&#039;s\n",
      "\tmin : (-5.2) Aki-Sora: Yume no Naka\n",
      "Feature 26:\n",
      "\tmax : (+4.3) Charlotte\n",
      "\tmin : (-4.1) Bible Black\n",
      "Feature 27:\n",
      "\tmax : (+4.7) Boku no Pico\n",
      "\tmin : (-4.4) Evangelion: 3.0 You Can (Not) Redo\n",
      "Feature 28:\n",
      "\tmax : (+5.1) Bokusatsu Tenshi Dokuro-chan\n",
      "\tmin : (-3.9) Dragon Ball Z\n",
      "Feature 29:\n",
      "\tmax : (+4.7) Sword Art Online II\n",
      "\tmin : (-3.3) Full Moon wo Sagashite\n",
      "Feature 30:\n",
      "\tmax : (+3.4) Fate/Zero\n",
      "\tmin : (-4.5) Inferno Cop\n",
      "Feature 31:\n",
      "\tmax : (+6.3) School Days\n",
      "\tmin : (-4.2) Katekyo Hitman Reborn!\n",
      "Feature 32:\n",
      "\tmax : (+3.9) Dragon Ball GT\n",
      "\tmin : (-5.4) Diabolik Lovers\n",
      "Feature 33:\n",
      "\tmax : (+5.2) Naruto: Shippuuden\n",
      "\tmin : (-4.6) Bobobo-bo Bo-bobo\n",
      "Feature 34:\n",
      "\tmax : (+3.7) Black★Rock Shooter (TV)\n",
      "\tmin : (-4.1) Yosuga no Sora: In Solitude, Where We Are Least Alone.\n",
      "Feature 35:\n",
      "\tmax : (+4.5) Bokusatsu Tenshi Dokuro-chan\n",
      "\tmin : (-3.7) Byousoku 5 Centimeter\n",
      "Feature 36:\n",
      "\tmax : (+5.1) Gintama\n",
      "\tmin : (-3.6) Ouran Koukou Host Club\n",
      "Feature 37:\n",
      "\tmax : (+3.8) Air\n",
      "\tmin : (-5.3) Highschool of the Dead\n",
      "Feature 38:\n",
      "\tmax : (+3.8) Vampire Knight: Guilty\n",
      "\tmin : (-3.7) Gintama\n",
      "Feature 39:\n",
      "\tmax : (+3.6) Ousama Game The Animation\n",
      "\tmin : (-4.6) To LOVE-Ru\n",
      "Feature 40:\n",
      "\tmax : (+9.5) School Days\n",
      "\tmin : (-3.5) Boku no Pico\n"
     ]
    }
   ],
   "source": [
    "model.print_features(data)"
   ]
  },
  {
   "cell_type": "markdown",
   "metadata": {},
   "source": [
    "### 4. Webscrape current profile"
   ]
  },
  {
   "cell_type": "code",
   "execution_count": 4,
   "metadata": {},
   "outputs": [
    {
     "name": "stdout",
     "output_type": "stream",
     "text": [
      "Scraped 300 additional anime from https://myanimelist.net/animelist/Manuel/load.json?offset=0&status=7\n",
      "Scraped 148 additional anime from https://myanimelist.net/animelist/Manuel/load.json?offset=300&status=7\n"
     ]
    }
   ],
   "source": [
    "myprofile = utils.get_user_anime_list('Manuel')\n",
    "x = utils.get_score_vector_from_user_anime_list(myprofile, data.cindex)"
   ]
  },
  {
   "cell_type": "markdown",
   "metadata": {},
   "source": [
    "### 5. Create prediction"
   ]
  },
  {
   "cell_type": "code",
   "execution_count": 5,
   "metadata": {},
   "outputs": [],
   "source": [
    "xhat = model.predict(x)"
   ]
  },
  {
   "cell_type": "code",
   "execution_count": 6,
   "metadata": {},
   "outputs": [
    {
     "name": "stdout",
     "output_type": "stream",
     "text": [
      "Top 10 Anime Predictions\n",
      "\t(11.1159) Nana\n",
      "\t(10.8133) Kenpuu Denki Berserk\n",
      "\t(9.5002) Paradise Kiss\n",
      "\t(9.2069) Ginga Eiyuu Densetsu\n",
      "\t(9.1089) Devilman: Crybaby\n",
      "\t(8.9505) Nodame Cantabile Finale\n",
      "\t(8.8477) Koe no Katachi\n",
      "\t(8.7421) Yoru wa Mijikashi Arukeyo Otome\n",
      "\t(8.7103) Nodame Cantabile: Paris-hen\n",
      "\t(8.6801) Chihayafuru\n",
      "\n",
      "Bottom 10 Anime Predictions\n",
      "\t(0.8278) Masou Gakuen HxH\n",
      "\t(0.8004) DRAMAtical Murder\n",
      "\t(0.7420) Suki na Mono wa Suki Dakara Shou ga Nai!!\n",
      "\t(0.6876) Angel&#039;s Feather\n",
      "\t(0.5967) Makura no Danshi\n",
      "\t(0.4612) 07-Ghost\n",
      "\t(0.0493) Zombie-Loan\n",
      "\t(-0.0565) Junjou Romantica 2\n",
      "\t(-0.6943) Gakuen Heaven\n",
      "\t(-0.7745) Junjou Romantica\n"
     ]
    }
   ],
   "source": [
    "prediction = utils.prediction_to_dataframe(xhat, myprofile, data.cindex)\n",
    "\n",
    "print('Top 10 Anime Predictions')\n",
    "for i in prediction.sort_values(ascending=False).head(10).index:\n",
    "    str_ = (\n",
    "        f\"\\t({prediction[i]:2.4f}) {data.get_anime_by_id(i).title}\"\n",
    "    )\n",
    "    print(str_)\n",
    "    \n",
    "print('\\nBottom 10 Anime Predictions')\n",
    "for i in prediction.sort_values(ascending=False).tail(10).index:\n",
    "    str_ = (\n",
    "        f\"\\t({prediction[i]:2.4f}) {data.get_anime_by_id(i).title}\"\n",
    "    )\n",
    "    print(str_)"
   ]
  }
 ],
 "metadata": {
  "kernelspec": {
   "display_name": "animerec",
   "language": "python",
   "name": "animerec"
  },
  "language_info": {
   "codemirror_mode": {
    "name": "ipython",
    "version": 3
   },
   "file_extension": ".py",
   "mimetype": "text/x-python",
   "name": "python",
   "nbconvert_exporter": "python",
   "pygments_lexer": "ipython3",
   "version": "3.7.4"
  }
 },
 "nbformat": 4,
 "nbformat_minor": 4
}
