{
 "cells": [
  {
   "cell_type": "markdown",
   "metadata": {},
   "source": [
    "# Building an Anime Recommender System"
   ]
  },
  {
   "cell_type": "code",
   "execution_count": 2,
   "metadata": {},
   "outputs": [],
   "source": [
    "import datasets, utils\n",
    "import pickle\n",
    "import pandas as pd\n",
    "import numpy as np\n",
    "import matplotlib.pyplot as plt"
   ]
  },
  {
   "cell_type": "markdown",
   "metadata": {},
   "source": [
    "### 1. Load Dataset"
   ]
  },
  {
   "cell_type": "code",
   "execution_count": 3,
   "metadata": {},
   "outputs": [
    {
     "name": "stderr",
     "output_type": "stream",
     "text": [
      "0it [00:00, ?it/s]\n"
     ]
    }
   ],
   "source": [
    "data = datasets.MyAnimeList(debug=True)\n",
    "data.X = data.X.tocsc()"
   ]
  },
  {
   "cell_type": "markdown",
   "metadata": {},
   "source": [
    "### 2. Build Prediction\n",
    "\n",
    "Current best time on debug set (k=7):\n",
    "\n",
    "* Iteration 0 : 24.73 seconds\n",
    "* Iteration 1 : 48.98 seconds"
   ]
  },
  {
   "cell_type": "code",
   "execution_count": 4,
   "metadata": {},
   "outputs": [
    {
     "name": "stdout",
     "output_type": "stream",
     "text": [
      "Iteration  0 :  Training Error = 10.1485  Time = 14.73\n",
      "Iteration  1 :  Training Error = 1.7408  Time = 48.98\n",
      "Iteration  2 :  Training Error = 1.5118  Time = 48.66\n",
      "Iteration  3 :  Training Error = 1.4126  Time = 47.44\n",
      "Iteration  4 :  Training Error = 1.3745  Time = 48.05\n",
      "Iteration  5 :  Training Error = 1.3562  Time = 48.47\n",
      "Iteration  6 :  Training Error = 1.3458  Time = 47.29\n",
      "Iteration  7 :  Training Error = 1.3390  Time = 49.75\n",
      "Iteration  8 :  Training Error = 1.3343  Time = 50.58\n",
      "Iteration  9 :  Training Error = 1.3309  Time = 47.67\n",
      "Iteration 10 :  Training Error = 1.3286  Time = 48.92\n"
     ]
    },
    {
     "data": {
      "image/png": "[encoded data removed]",
      "text/plain": [
       "<Figure size 432x288 with 1 Axes>"
      ]
     },
     "metadata": {
      "needs_background": "light"
     },
     "output_type": "display_data"
    }
   ],
   "source": [
    "import importlib\n",
    "importlib.reload(utils)\n",
    "nfeatures = 7\n",
    "steps = 10\n",
    "model = utils.MatrixFactorization(k=nfeatures, reg=20.)\n",
    "model.fit(data.X,steps=10)"
   ]
  },
  {
   "cell_type": "code",
   "execution_count": 6,
   "metadata": {},
   "outputs": [
    {
     "name": "stdout",
     "output_type": "stream",
     "text": [
      "Feature 1:\n",
      "\tmax : (+1.5) Diabolik Lovers\n",
      "\tmin : (-1.4) Neon Genesis Evangelion: The End of Evangelion\n",
      "Feature 2:\n",
      "\tmax : (+1.3) Lucky☆Star\n",
      "\tmin : (-1.4) Naruto: Shippuuden\n",
      "Feature 3:\n",
      "\tmax : (+2.6) School Days\n",
      "\tmin : (-1.0) Papa to Kiss in the Dark\n",
      "Feature 4:\n",
      "\tmax : (+2.2) Naruto: Shippuuden\n",
      "\tmin : (-0.9) The Sky Crawlers\n",
      "Feature 5:\n",
      "\tmax : (+0.9) Clannad: After Story\n",
      "\tmin : (-2.3) Boku no Pico\n",
      "Feature 6:\n",
      "\tmax : (+1.3) Bishoujo Senshi Sailor Moon\n",
      "\tmin : (-1.5) Sword Art Online\n",
      "Feature 7:\n",
      "\tmax : (+1.4) Vampire Knight: Guilty\n",
      "\tmin : (-0.9) FLCL\n"
     ]
    }
   ],
   "source": [
    "for k in range(nfeatures):\n",
    "    jmax = model.V[:,k].argmax()\n",
    "    jmin = model.V[:,k].argmin()\n",
    "    idmax = data.cindex[jmax]\n",
    "    idmin = data.cindex[jmin]\n",
    "    amax = data.get_anime_by_id(idmax)\n",
    "    amin = data.get_anime_by_id(idmin)\n",
    "    str_ = (\n",
    "        f'Feature {k+1}:\\n'\n",
    "        f'\\tmax : ({model.V[jmax,k]:+2.1f}) {amax.title}\\n'\n",
    "        f'\\tmin : ({model.V[jmin,k]:+2.1f}) {amin.title}'\n",
    "    )\n",
    "    print(str_)"
   ]
  },
  {
   "cell_type": "markdown",
   "metadata": {},
   "source": [
    "### ToDo\n",
    "* Predict scores of users not in dataset.\n",
    "* REST Api: https://medium.com/@mahdi04/train-predict-simple-machine-learning-models-with-django-rest-76ce46bf2868"
   ]
  },
  {
   "cell_type": "markdown",
   "metadata": {},
   "source": [
    "### 3. Webscrape current animelist"
   ]
  },
  {
   "cell_type": "code",
   "execution_count": null,
   "metadata": {},
   "outputs": [],
   "source": [
    "pickle_in = open(\"model.pickle\", 'rb')\n",
    "model = pickle.load(pickle_in)\n",
    "pickle_in.close()"
   ]
  },
  {
   "cell_type": "code",
   "execution_count": null,
   "metadata": {},
   "outputs": [],
   "source": [
    "myprofile = utils.get_user_anime_list('Manuel')"
   ]
  },
  {
   "cell_type": "code",
   "execution_count": null,
   "metadata": {},
   "outputs": [],
   "source": [
    "index = data.users[data.users.username == 'Manuel'].index\n",
    "\n",
    "prediction = pd.Series(np.dot(model.U[index],model.V.T).flatten(), index=data.cindex)\n",
    "prediction = prediction + model.bu[index] + model.mu\n",
    "watched = [a['id_ref'] for a in myprofile if a['id_ref'] in prediction.index]\n",
    "prediction = prediction.drop(list(watched))  # Note: columns == anime_ids's\n",
    "\n",
    "print('Top 10 Anime Predictions')\n",
    "for i in prediction.sort_values(ascending=False).head(10).index:\n",
    "    str_ = (\n",
    "        f\"\\t({prediction[i]:2.4f}) {data.get_anime_by_id(i).title}\"\n",
    "    )\n",
    "    print(str_)\n",
    "    \n",
    "print('\\nBottom 10 Anime Predictions')\n",
    "for i in prediction.sort_values(ascending=False).tail(10).index:\n",
    "    str_ = (\n",
    "        f\"\\t({prediction[i]:2.4f}) {data.get_anime_by_id(i).title}\"\n",
    "    )\n",
    "    print(str_)"
   ]
  },
  {
   "cell_type": "markdown",
   "metadata": {},
   "source": [
    "## PLAYGROUND"
   ]
  },
  {
   "cell_type": "code",
   "execution_count": null,
   "metadata": {},
   "outputs": [],
   "source": [
    "import time\n",
    "\n",
    "def loss(X, model):\n",
    "    X = X.tocsc()\n",
    "    N = 0.\n",
    "    E = 0.\n",
    "    for j in range(model.V.shape[0]):\n",
    "        ivec = X.getcol(j).nonzero()[0]\n",
    "        xtru = X[ivec,j].todense().T\n",
    "        xhat = model.U[ivec].dot(model.V[j].T) + model.bu[ivec] + model.bv[j] + model.mu\n",
    "        resd = xtru - xhat\n",
    "        E += resd.dot(resd.T)\n",
    "        N += len(ivec)\n",
    "    return E[0,0] / N\n",
    "\n",
    "tstart = time.time()\n",
    "result = loss(data.X,model)\n",
    "print(f\"Took {time.time()-tstart:.2f} seconds. Result: {result}. Should be {gotcha}.\")"
   ]
  }
 ],
 "metadata": {
  "kernelspec": {
   "display_name": "animerec",
   "language": "python",
   "name": "animerec"
  },
  "language_info": {
   "codemirror_mode": {
    "name": "ipython",
    "version": 3
   },
   "file_extension": ".py",
   "mimetype": "text/x-python",
   "name": "python",
   "nbconvert_exporter": "python",
   "pygments_lexer": "ipython3",
   "version": "3.7.4"
  }
 },
 "nbformat": 4,
 "nbformat_minor": 4
}
