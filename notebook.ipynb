{
 "cells": [
  {
   "cell_type": "markdown",
   "metadata": {},
   "source": [
    "# Building an Anime Recommender System"
   ]
  },
  {
   "cell_type": "code",
   "execution_count": 1,
   "metadata": {},
   "outputs": [],
   "source": [
    "import datasets, utils\n",
    "import pandas as pd\n",
    "import numpy as np\n",
    "import matplotlib.pyplot as plt\n",
    "from scipy.sparse import csr_matrix, vstack"
   ]
  },
  {
   "cell_type": "code",
   "execution_count": 2,
   "metadata": {},
   "outputs": [],
   "source": [
    "animes = pd.read_csv('data/AnimeList.csv')\n",
    "anime_dict = {a.anime_id: a.title for i,a in animes.iterrows()}\n",
    "\n",
    "# If an English title exists. Replace the original title.\n",
    "for i,a in animes.iterrows():\n",
    "    if pd.isna(a.title_english):\n",
    "        anime_dict[a.anime_id] = a.title_english\n",
    "        \n",
    "anime_ids = animes.sort_values(by=\"anime_id\").anime_id.unique()"
   ]
  },
  {
   "cell_type": "code",
   "execution_count": 3,
   "metadata": {},
   "outputs": [],
   "source": [
    "size = 3e6\n",
    "reader = pd.read_csv('data/UserAnimeList.csv', chunksize = size)\n",
    "\n",
    "chunk_list = []\n",
    "userlist = []\n",
    "\n",
    "# Each chunk is in dataframe format\n",
    "for chunk in reader:  \n",
    "    chunk = chunk[['username', 'anime_id', 'my_score']]\n",
    "    chunk = chunk[chunk.my_score != 0]\n",
    "    \n",
    "    # Transform Dataframe to (N=#users x K=#animes) matrix, with scores as values\n",
    "    chunk = chunk.pivot(index=\"username\", columns=\"anime_id\", values=\"my_score\")\n",
    "    \n",
    "    # Add dimensions so that we can easily vstack\n",
    "    chunk = chunk.reindex(columns = anime_ids)\n",
    "    \n",
    "    # Extract userlist\n",
    "    userlist = userlist + chunk.index.tolist()\n",
    "    \n",
    "    chunk = csr_matrix(chunk.fillna(0))  # Convert to SciPy sparse matrix\n",
    "    \n",
    "    chunk_list.append(chunk)"
   ]
  },
  {
   "cell_type": "code",
   "execution_count": 4,
   "metadata": {},
   "outputs": [],
   "source": [
    "X = vstack(chunk_list, format=\"csr\")"
   ]
  },
  {
   "cell_type": "code",
   "execution_count": 5,
   "metadata": {},
   "outputs": [],
   "source": [
    "from sklearn.decomposition import NMF\n",
    "model = NMF(n_components=7, init='nndsvda', shuffle=True)\n",
    "W = model.fit_transform(X)\n",
    "H = model.components_"
   ]
  },
  {
   "cell_type": "code",
   "execution_count": null,
   "metadata": {},
   "outputs": [],
   "source": [
    "PYTHON_ID = ul.index('Manuel') -2\n",
    "\n",
    "prediction = pd.Series(np.dot(W[PYTHON_ID],H), index=anime_ids)\n",
    "_, watched = X[PYTHON_ID].nonzero()\n",
    "watched = anime_ids[watched]\n",
    "prediction = prediction.drop(list(watched))  # watched has python index notation!\n",
    "\n",
    "for i in prediction.sort_values(ascending=False).head(50).index:\n",
    "    print(anime_dict[i])"
   ]
  },
  {
   "cell_type": "code",
   "execution_count": 44,
   "metadata": {},
   "outputs": [],
   "source": [
    "from sklearn.manifold import TSNE\n",
    "from sklearn.decomposition import TruncatedSVD\n",
    "svd = TruncatedSVD(n_components=7, n_iter=7)\n",
    "X_trans = svd.fit_transform(X)"
   ]
  },
  {
   "cell_type": "code",
   "execution_count": null,
   "metadata": {},
   "outputs": [],
   "source": [
    "X_embedded = TSNE(n_components=2).fit_transform(X_trans)"
   ]
  },
  {
   "cell_type": "code",
   "execution_count": null,
   "metadata": {},
   "outputs": [],
   "source": [
    "plt.scatter(X_embedded[0,:], X_embedded[1,:])"
   ]
  },
  {
   "cell_type": "code",
   "execution_count": null,
   "metadata": {},
   "outputs": [],
   "source": []
  }
 ],
 "metadata": {
  "kernelspec": {
   "display_name": "animerec",
   "language": "python",
   "name": "animerec"
  },
  "language_info": {
   "codemirror_mode": {
    "name": "ipython",
    "version": 3
   },
   "file_extension": ".py",
   "mimetype": "text/x-python",
   "name": "python",
   "nbconvert_exporter": "python",
   "pygments_lexer": "ipython3",
   "version": "3.7.3"
  }
 },
 "nbformat": 4,
 "nbformat_minor": 4
}
