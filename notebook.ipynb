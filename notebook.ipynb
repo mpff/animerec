{
 "cells": [
  {
   "cell_type": "markdown",
   "metadata": {},
   "source": [
    "# Building an Anime Recommender System"
   ]
  },
  {
   "cell_type": "code",
   "execution_count": 1,
   "metadata": {},
   "outputs": [],
   "source": [
    "import datasets, utils\n",
    "import pickle\n",
    "import pandas as pd\n",
    "import numpy as np\n",
    "import matplotlib.pyplot as plt"
   ]
  },
  {
   "cell_type": "markdown",
   "metadata": {},
   "source": [
    "### 1. Load Dataset"
   ]
  },
  {
   "cell_type": "code",
   "execution_count": 6,
   "metadata": {},
   "outputs": [],
   "source": [
    "data = datasets.MyAnimeList()"
   ]
  },
  {
   "cell_type": "markdown",
   "metadata": {},
   "source": [
    "### 2. Build Prediction\n",
    "\n",
    "Current best time on debug set (k=7):\n",
    "\n",
    "* Iteration 0 : 24.73 seconds\n",
    "* Iteration 1 : 48.98 seconds"
   ]
  },
  {
   "cell_type": "code",
   "execution_count": null,
   "metadata": {},
   "outputs": [],
   "source": [
    "import importlib\n",
    "importlib.reload(utils)\n",
    "nfeatures = 7\n",
    "steps = 10\n",
    "model = utils.MatrixFactorization(k=nfeatures, reg=20.)\n",
    "model.fit(data.X,steps=10)"
   ]
  },
  {
   "cell_type": "code",
   "execution_count": null,
   "metadata": {},
   "outputs": [],
   "source": [
    "for k in range(nfeatures):\n",
    "    jmax = model.V[:,k].argmax()\n",
    "    jmin = model.V[:,k].argmin()\n",
    "    idmax = data.cindex[jmax]\n",
    "    idmin = data.cindex[jmin]\n",
    "    amax = data.get_anime_by_id(idmax)\n",
    "    amin = data.get_anime_by_id(idmin)\n",
    "    str_ = (\n",
    "        f'Feature {k+1}:\\n'\n",
    "        f'\\tmax : ({model.V[jmax,k]:+2.1f}) {amax.title}\\n'\n",
    "        f'\\tmin : ({model.V[jmin,k]:+2.1f}) {amin.title}'\n",
    "    )\n",
    "    print(str_)"
   ]
  },
  {
   "cell_type": "markdown",
   "metadata": {},
   "source": [
    "### ToDo\n",
    "* Predict scores of users not in dataset.\n",
    "* REST Api: https://medium.com/@mahdi04/train-predict-simple-machine-learning-models-with-django-rest-76ce46bf2868"
   ]
  },
  {
   "cell_type": "markdown",
   "metadata": {},
   "source": [
    "### 3. Webscrape current animelist"
   ]
  },
  {
   "cell_type": "code",
   "execution_count": 3,
   "metadata": {},
   "outputs": [
    {
     "name": "stdout",
     "output_type": "stream",
     "text": [
      "Scraped 300 additional anime from https://myanimelist.net/animelist/Manuel/load.json?offset=0&status=7\n",
      "Scraped 148 additional anime from https://myanimelist.net/animelist/Manuel/load.json?offset=300&status=7\n"
     ]
    }
   ],
   "source": [
    "myprofile = utils.get_user_anime_list('Manuel')"
   ]
  },
  {
   "cell_type": "markdown",
   "metadata": {},
   "source": [
    "#### 4. Get model from server"
   ]
  },
  {
   "cell_type": "code",
   "execution_count": 9,
   "metadata": {},
   "outputs": [],
   "source": [
    "pickle_in = open(\"model.pickle\", 'rb')\n",
    "model = pickle.load(pickle_in)\n",
    "pickle_in.close()"
   ]
  },
  {
   "cell_type": "code",
   "execution_count": 5,
   "metadata": {},
   "outputs": [
    {
     "name": "stdout",
     "output_type": "stream",
     "text": [
      "Feature 1:\n",
      "\tmax : (+4.0) Suzumiya Haruhi no Yuuutsu\n",
      "\tmin : (-6.0) Naruto: Shippuuden\n",
      "Feature 2:\n",
      "\tmax : (+5.0) .hack//Sign\n",
      "\tmin : (-3.1) Tsubasa Chronicle 2nd Season\n",
      "Feature 3:\n",
      "\tmax : (+4.7) Sword Art Online\n",
      "\tmin : (-3.3) Higashi no Eden Movie II: Paradise Lost\n",
      "Feature 4:\n",
      "\tmax : (+7.0) Pingu in the City\n",
      "\tmin : (-4.1) Lucky☆Star\n",
      "Feature 5:\n",
      "\tmax : (+4.5) Bobobo-bo Bo-bobo\n",
      "\tmin : (-4.4) Aki-Sora\n",
      "Feature 6:\n",
      "\tmax : (+5.9) Ore no Imouto ga Konnani Kawaii Wake ga Nai. Specials\n",
      "\tmin : (-5.2) School Days\n",
      "Feature 7:\n",
      "\tmax : (+3.6) Boku no Pico\n",
      "\tmin : (-7.6) School Days\n",
      "Feature 8:\n",
      "\tmax : (+3.6) Vampire Knight: Guilty\n",
      "\tmin : (-3.9) Hachimitsu to Clover\n",
      "Feature 9:\n",
      "\tmax : (+5.4) Dragon Ball GT\n",
      "\tmin : (-4.1) Aku no Hana\n",
      "Feature 10:\n",
      "\tmax : (+6.9) One Piece\n",
      "\tmin : (-2.9) Princess Princess\n",
      "Feature 11:\n",
      "\tmax : (+4.2) School Days\n",
      "\tmin : (-5.7) Sword Art Online II\n",
      "Feature 12:\n",
      "\tmax : (+4.6) Neon Genesis Evangelion\n",
      "\tmin : (-4.2) Shinsekai yori\n",
      "Feature 13:\n",
      "\tmax : (+4.3) Bokusatsu Tenshi Dokuro-chan\n",
      "\tmin : (-3.7) K-On!!\n",
      "Feature 14:\n",
      "\tmax : (+5.1) Pupa\n",
      "\tmin : (-4.4) Tenshi Kinryouku\n",
      "Feature 15:\n",
      "\tmax : (+4.5) Poputepipikku\n",
      "\tmin : (-5.3) Aku no Hana\n",
      "Feature 16:\n",
      "\tmax : (+5.4) Aku no Hana\n",
      "\tmin : (-3.6) Green Green\n",
      "Feature 17:\n",
      "\tmax : (+3.4) Texhnolyze\n",
      "\tmin : (-5.9) Suzumiya Haruhi no Yuuutsu (2009)\n",
      "Feature 18:\n",
      "\tmax : (+4.5) Diabolik Lovers\n",
      "\tmin : (-7.2) School Days\n",
      "Feature 19:\n",
      "\tmax : (+3.7) Dragon Ball Z Movie 11: Super Senshi Gekiha!! Katsu no wa Ore da\n",
      "\tmin : (-5.7) Boku no Pico\n",
      "Feature 20:\n",
      "\tmax : (+3.8) Dragon Ball Super\n",
      "\tmin : (-3.4) Pupa\n",
      "Feature 21:\n",
      "\tmax : (+4.6) Neon Genesis Evangelion: The End of Evangelion\n",
      "\tmin : (-4.5) Ore no Imouto ga Konnani Kawaii Wake ga Nai. Specials\n",
      "Feature 22:\n",
      "\tmax : (+2.5) Poputepipikku\n",
      "\tmin : (-6.6) Berserk\n",
      "Feature 23:\n",
      "\tmax : (+6.2) Pico x CoCo x Chico\n",
      "\tmin : (-4.5) Dragon Ball GT\n",
      "Feature 24:\n",
      "\tmax : (+4.4) Bokura ga Ita\n",
      "\tmin : (-4.5) Angel Beats!\n",
      "Feature 25:\n",
      "\tmax : (+2.8) Yu☆Gi☆Oh! 5D&#039;s\n",
      "\tmin : (-5.2) Aki-Sora: Yume no Naka\n",
      "Feature 26:\n",
      "\tmax : (+4.3) Charlotte\n",
      "\tmin : (-4.1) Bible Black\n",
      "Feature 27:\n",
      "\tmax : (+4.7) Boku no Pico\n",
      "\tmin : (-4.4) Evangelion: 3.0 You Can (Not) Redo\n",
      "Feature 28:\n",
      "\tmax : (+5.1) Bokusatsu Tenshi Dokuro-chan\n",
      "\tmin : (-3.9) Dragon Ball Z\n",
      "Feature 29:\n",
      "\tmax : (+4.7) Sword Art Online II\n",
      "\tmin : (-3.3) Full Moon wo Sagashite\n",
      "Feature 30:\n",
      "\tmax : (+3.4) Fate/Zero\n",
      "\tmin : (-4.5) Inferno Cop\n",
      "Feature 31:\n",
      "\tmax : (+6.3) School Days\n",
      "\tmin : (-4.2) Katekyo Hitman Reborn!\n",
      "Feature 32:\n",
      "\tmax : (+3.9) Dragon Ball GT\n",
      "\tmin : (-5.4) Diabolik Lovers\n",
      "Feature 33:\n",
      "\tmax : (+5.2) Naruto: Shippuuden\n",
      "\tmin : (-4.6) Bobobo-bo Bo-bobo\n",
      "Feature 34:\n",
      "\tmax : (+3.7) Black★Rock Shooter (TV)\n",
      "\tmin : (-4.1) Yosuga no Sora: In Solitude, Where We Are Least Alone.\n",
      "Feature 35:\n",
      "\tmax : (+4.5) Bokusatsu Tenshi Dokuro-chan\n",
      "\tmin : (-3.7) Byousoku 5 Centimeter\n",
      "Feature 36:\n",
      "\tmax : (+5.1) Gintama\n",
      "\tmin : (-3.6) Ouran Koukou Host Club\n",
      "Feature 37:\n",
      "\tmax : (+3.8) Air\n",
      "\tmin : (-5.3) Highschool of the Dead\n",
      "Feature 38:\n",
      "\tmax : (+3.8) Vampire Knight: Guilty\n",
      "\tmin : (-3.7) Gintama\n",
      "Feature 39:\n",
      "\tmax : (+3.6) Ousama Game The Animation\n",
      "\tmin : (-4.6) To LOVE-Ru\n",
      "Feature 40:\n",
      "\tmax : (+9.5) School Days\n",
      "\tmin : (-3.5) Boku no Pico\n"
     ]
    }
   ],
   "source": [
    "for k in range(model.k):\n",
    "    jmax = model.V[:,k].argmax()\n",
    "    jmin = model.V[:,k].argmin()\n",
    "    idmax = data.cindex[jmax]\n",
    "    idmin = data.cindex[jmin]\n",
    "    amax = data.get_anime_by_id(idmax)\n",
    "    amin = data.get_anime_by_id(idmin)\n",
    "    str_ = (\n",
    "        f'Feature {k+1}:\\n'\n",
    "        f'\\tmax : ({model.V[jmax,k]:+2.1f}) {amax.title}\\n'\n",
    "        f'\\tmin : ({model.V[jmin,k]:+2.1f}) {amin.title}'\n",
    "    )\n",
    "    print(str_)"
   ]
  },
  {
   "cell_type": "code",
   "execution_count": 62,
   "metadata": {},
   "outputs": [
    {
     "name": "stdout",
     "output_type": "stream",
     "text": [
      "Top 10 Anime Predictions\n",
      "\t(9.6769) Nana\n",
      "\t(9.6563) Love Live! School Idol Project 2nd Season\n",
      "\t(9.5861) Hunter x Hunter (2011)\n",
      "\t(9.5677) Kokoro Connect: Michi Random\n",
      "\t(9.5244) Clannad: After Story\n",
      "\t(9.4984) Kuroko no Basket 2nd Season\n",
      "\t(9.4973) Kuroko no Basket 3rd Season\n",
      "\t(9.4855) Shinsekai yori\n",
      "\t(9.4262) Snow Halation\n",
      "\t(9.4215) Hunter x Hunter: Greed Island Final\n",
      "\t(9.4130) Love Live! School Idol Project\n",
      "\t(9.3943) Kenpuu Denki Berserk\n",
      "\t(9.3720) High School DxD New\n",
      "\t(9.3068) Hunter x Hunter\n",
      "\t(9.2841) Hunter x Hunter: Greed Island\n",
      "\t(9.2792) Kiseijuu: Sei no Kakuritsu\n",
      "\t(9.2381) Crayon Shin-chan\n",
      "\t(9.2372) Hunter x Hunter: Yorkshin City Kanketsu-hen\n",
      "\t(9.2367) Kuroko no Basket\n",
      "\t(9.2338) Chihayafuru 2\n",
      "\n",
      "Bottom 10 Anime Predictions\n",
      "\t(5.2245) Super Child\n",
      "\t(5.2195) Tsui no Sora\n",
      "\t(5.2085) Ningen Doubutsuen\n",
      "\t(5.0830) Utsu Musume Sayuri\n",
      "\t(5.0803) Kokuhaku\n",
      "\t(5.0419) Aki no Puzzle\n",
      "\t(4.9264) Uju Heukgisa\n",
      "\t(4.8966) Forest Fairy Five\n",
      "\t(4.6567) Ai (ONA)\n",
      "\t(4.6346) Abunai Sisters: Koko & Mika\n"
     ]
    }
   ],
   "source": [
    "index = data.users[data.users.username == 'Manuel'].index\n",
    "\n",
    "prediction = pd.Series(np.dot(model.U[index],model.V.T).flatten(), index=data.cindex)\n",
    "prediction = prediction + model.bu[index] + model.bv + model.mu\n",
    "watched = [a['id_ref'] for a in myprofile if a['id_ref'] in prediction.index]\n",
    "prediction = prediction.drop(list(watched))  # Note: columns == anime_ids's\n",
    "\n",
    "print('Top 10 Anime Predictions')\n",
    "for i in prediction.sort_values(ascending=False).head(20).index:\n",
    "    str_ = (\n",
    "        f\"\\t({prediction[i]:2.4f}) {data.get_anime_by_id(i).title}\"\n",
    "    )\n",
    "    print(str_)\n",
    "    \n",
    "print('\\nBottom 10 Anime Predictions')\n",
    "for i in prediction.sort_values(ascending=False).tail(10).index:\n",
    "    str_ = (\n",
    "        f\"\\t({prediction[i]:2.4f}) {data.get_anime_by_id(i).title}\"\n",
    "    )\n",
    "    print(str_)"
   ]
  },
  {
   "cell_type": "markdown",
   "metadata": {},
   "source": [
    "### 5. Out of sample predictions using OLS"
   ]
  },
  {
   "cell_type": "code",
   "execution_count": 3,
   "metadata": {},
   "outputs": [
    {
     "name": "stdout",
     "output_type": "stream",
     "text": [
      "Scraped 300 additional anime from https://myanimelist.net/animelist/Manuel/load.json?offset=0&status=7\n",
      "Scraped 148 additional anime from https://myanimelist.net/animelist/Manuel/load.json?offset=300&status=7\n"
     ]
    }
   ],
   "source": [
    "myprofile = utils.get_user_anime_list('Manuel')"
   ]
  },
  {
   "cell_type": "code",
   "execution_count": 4,
   "metadata": {},
   "outputs": [
    {
     "name": "stdout",
     "output_type": "stream",
     "text": [
      "{'name': '3-gatsu no Lion', 'id_ref': 31646, 'status': 1, 'score': 0}\n"
     ]
    }
   ],
   "source": [
    "print(myprofile[0])"
   ]
  },
  {
   "cell_type": "code",
   "execution_count": 7,
   "metadata": {},
   "outputs": [],
   "source": [
    "def jsondict_to_vec(profile):\n",
    "    vec = pd.Series(index=data.cindex)\n",
    "    for anime in profile:\n",
    "        if anime['status'] not in [2,4]:\n",
    "            continue\n",
    "        vec[anime['id_ref']] = anime['score']\n",
    "    vec = vec[data.cindex]\n",
    "    return np.array(vec)\n",
    "    \n",
    "u = jsondict_to_vec(myprofile)"
   ]
  },
  {
   "cell_type": "code",
   "execution_count": 78,
   "metadata": {},
   "outputs": [
    {
     "name": "stdout",
     "output_type": "stream",
     "text": [
      "[ 0.03801727  0.05985485 -0.02586976 -0.31182302  0.26042233 -0.30728367\n",
      "  0.23353339 -0.23892761 -0.08831289  0.37450211  0.27934204 -0.01900866\n",
      " -0.01106566  0.02314803 -0.42648209  0.11860496 -0.30235507 -0.14443665\n",
      " -0.10884845 -0.08504698  0.04568596  0.43096937  0.35011442 -0.29771794\n",
      "  0.13459615 -0.23688228 -0.04275935  0.10430467  0.09664343  0.20579265\n",
      "  0.16599957  0.10486619  0.05711688  0.08387709  0.18344094  0.01765343\n",
      "  0.05207742  0.10602123  0.26168322  0.29706534]\n"
     ]
    }
   ],
   "source": [
    "x = (u - model.mu - model.bv)\n",
    "\n",
    "n = 0\n",
    "xbar = 0\n",
    "for i,e in enumerate(x):\n",
    "    if not np.isnan(e):\n",
    "        n += 1\n",
    "        xbar += x[i]\n",
    "xbar = xbar/n\n",
    "x = x - xbar\n",
    "\n",
    "vcov = np.linalg.inv(model.V.T.dot(model.V))\n",
    "\n",
    "vx_ = 0\n",
    "vcov_ = 0\n",
    "for i,e in enumerate(x):\n",
    "    if not np.isnan(e):\n",
    "        vx_ += model.V[i,:]*x[i]\n",
    "        vcov_ += np.outer(model.V[i,:], model.V[i,:])\n",
    "vcov_ = np.linalg.inv(vcov_)\n",
    "        \n",
    "uhat = vcov_.dot(vx_)\n",
    "print(uhat)"
   ]
  },
  {
   "cell_type": "code",
   "execution_count": 79,
   "metadata": {},
   "outputs": [
    {
     "name": "stdout",
     "output_type": "stream",
     "text": [
      "Top 10 Anime Predictions\n",
      "\t(11.1159) Nana\n",
      "\t(10.8133) Kenpuu Denki Berserk\n",
      "\t(9.5002) Paradise Kiss\n",
      "\t(9.2069) Ginga Eiyuu Densetsu\n",
      "\t(9.1089) Devilman: Crybaby\n",
      "\t(8.9505) Nodame Cantabile Finale\n",
      "\t(8.8477) Koe no Katachi\n",
      "\t(8.7421) Yoru wa Mijikashi Arukeyo Otome\n",
      "\t(8.7103) Nodame Cantabile: Paris-hen\n",
      "\t(8.6801) Chihayafuru\n",
      "\t(8.6507) Kono Sekai no Katasumi ni\n",
      "\t(8.6478) Nekojiru-sou\n",
      "\t(8.6336) Steins;Gate: Oukoubakko no Poriomania\n",
      "\t(8.6069) Ginga Eiyuu Densetsu Gaiden\n",
      "\t(8.6067) Chihayafuru 2\n",
      "\t(8.5934) Aria The Origination\n",
      "\t(8.5927) Berserk: Ougon Jidai-hen III - Kourin\n",
      "\t(8.5388) Tokyo Ghoul\n",
      "\t(8.5292) Hunter x Hunter (2011)\n",
      "\t(8.5225) Tokyo Ghoul √A\n",
      "\n",
      "Bottom 10 Anime Predictions\n",
      "\t(0.8278) Masou Gakuen HxH\n",
      "\t(0.8004) DRAMAtical Murder\n",
      "\t(0.7420) Suki na Mono wa Suki Dakara Shou ga Nai!!\n",
      "\t(0.6876) Angel&#039;s Feather\n",
      "\t(0.5967) Makura no Danshi\n",
      "\t(0.4612) 07-Ghost\n",
      "\t(0.0493) Zombie-Loan\n",
      "\t(-0.0565) Junjou Romantica 2\n",
      "\t(-0.6943) Gakuen Heaven\n",
      "\t(-0.7745) Junjou Romantica\n"
     ]
    }
   ],
   "source": [
    "prediction = pd.Series(np.dot(uhat,model.V.T).flatten(), index=data.cindex)\n",
    "prediction = prediction + xbar + model.bv + model.mu\n",
    "watched = [a['id_ref'] for a in myprofile if a['id_ref'] in prediction.index]\n",
    "prediction = prediction.drop(list(watched))  # Note: columns == anime_ids's\n",
    "\n",
    "print('Top 10 Anime Predictions')\n",
    "for i in prediction.sort_values(ascending=False).head(20).index:\n",
    "    str_ = (\n",
    "        f\"\\t({prediction[i]:2.4f}) {data.get_anime_by_id(i).title}\"\n",
    "    )\n",
    "    print(str_)\n",
    "    \n",
    "print('\\nBottom 10 Anime Predictions')\n",
    "for i in prediction.sort_values(ascending=False).tail(10).index:\n",
    "    str_ = (\n",
    "        f\"\\t({prediction[i]:2.4f}) {data.get_anime_by_id(i).title}\"\n",
    "    )\n",
    "    print(str_)"
   ]
  },
  {
   "cell_type": "markdown",
   "metadata": {},
   "source": [
    "## PLAYGROUND"
   ]
  },
  {
   "cell_type": "code",
   "execution_count": null,
   "metadata": {},
   "outputs": [],
   "source": [
    "import time\n",
    "\n",
    "def loss(X, model):\n",
    "    X = X.tocsc()\n",
    "    N = 0.\n",
    "    E = 0.\n",
    "    for j in range(model.V.shape[0]):\n",
    "        ivec = X.getcol(j).nonzero()[0]\n",
    "        xtru = X[ivec,j].todense().T\n",
    "        xhat = model.U[ivec].dot(model.V[j].T) + model.bu[ivec] + model.bv[j] + model.mu\n",
    "        resd = xtru - xhat\n",
    "        E += resd.dot(resd.T)\n",
    "        N += len(ivec)\n",
    "    return E[0,0] / N\n",
    "\n",
    "tstart = time.time()\n",
    "result = loss(data.X,model)\n",
    "print(f\"Took {time.time()-tstart:.2f} seconds. Result: {result}. Should be {gotcha}.\")"
   ]
  }
 ],
 "metadata": {
  "kernelspec": {
   "display_name": "animerec",
   "language": "python",
   "name": "animerec"
  },
  "language_info": {
   "codemirror_mode": {
    "name": "ipython",
    "version": 3
   },
   "file_extension": ".py",
   "mimetype": "text/x-python",
   "name": "python",
   "nbconvert_exporter": "python",
   "pygments_lexer": "ipython3",
   "version": "3.7.4"
  }
 },
 "nbformat": 4,
 "nbformat_minor": 4
}
