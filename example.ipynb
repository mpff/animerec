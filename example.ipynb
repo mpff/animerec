{
 "cells": [
  {
   "cell_type": "markdown",
   "metadata": {},
   "source": [
    "# Building an Anime Recommender System"
   ]
  },
  {
   "cell_type": "code",
   "execution_count": 1,
   "metadata": {},
   "outputs": [],
   "source": [
    "from animerec import datasets, utils\n",
    "import pickle\n",
    "import pandas as pd\n",
    "import numpy as np\n",
    "import matplotlib.pyplot as plt"
   ]
  },
  {
   "cell_type": "markdown",
   "metadata": {},
   "source": [
    "### 1. Load Dataset and Model"
   ]
  },
  {
   "cell_type": "code",
   "execution_count": 2,
   "metadata": {},
   "outputs": [],
   "source": [
    "import sys\n",
    "sys.modules['datasets'] = datasets\n",
    "sys.modules['utils'] = utils\n",
    "\n",
    "# Load dataset for cindex, id_to_anime, etc.\n",
    "pickle_in = open(\"data/MyAnimeList.pickle\", 'rb')\n",
    "data = pickle.load(pickle_in)\n",
    "pickle_in.close()\n",
    "\n",
    "# Load model trained on server.\n",
    "pickle_in = open(\"animerec/model/model.pickle\", 'rb')\n",
    "model = pickle.load(pickle_in)\n",
    "pickle_in.close()"
   ]
  },
  {
   "cell_type": "markdown",
   "metadata": {},
   "source": [
    "### 3. Print Features in Model"
   ]
  },
  {
   "cell_type": "code",
   "execution_count": 3,
   "metadata": {},
   "outputs": [
    {
     "name": "stdout",
     "output_type": "stream",
     "text": [
      "Printing 7 of 40 features.\n",
      "Feature 1:\n",
      "\tmax : (+4.0) Suzumiya Haruhi no Yuuutsu\n",
      "\tmin : (-6.0) Naruto: Shippuuden\n",
      "Feature 2:\n",
      "\tmax : (+5.0) .hack//Sign\n",
      "\tmin : (-3.1) Tsubasa Chronicle 2nd Season\n",
      "Feature 3:\n",
      "\tmax : (+4.7) Sword Art Online\n",
      "\tmin : (-3.3) Higashi no Eden Movie II: Paradise Lost\n",
      "Feature 4:\n",
      "\tmax : (+7.0) Pingu in the City\n",
      "\tmin : (-4.1) Lucky☆Star\n",
      "Feature 5:\n",
      "\tmax : (+4.5) Bobobo-bo Bo-bobo\n",
      "\tmin : (-4.4) Aki-Sora\n",
      "Feature 6:\n",
      "\tmax : (+5.9) Ore no Imouto ga Konnani Kawaii Wake ga Nai. Specials\n",
      "\tmin : (-5.2) School Days\n",
      "Feature 7:\n",
      "\tmax : (+3.6) Boku no Pico\n",
      "\tmin : (-7.6) School Days\n"
     ]
    }
   ],
   "source": [
    "utils.print_features(model, data, nfeatures=7)"
   ]
  },
  {
   "cell_type": "markdown",
   "metadata": {},
   "source": [
    "### 4. Webscrape current profile and create prediction"
   ]
  },
  {
   "cell_type": "code",
   "execution_count": 6,
   "metadata": {},
   "outputs": [
    {
     "name": "stdout",
     "output_type": "stream",
     "text": [
      "Scraped 131 additional anime from https://myanimelist.net/animelist/Backlash/load.json?offset=0&status=7\n",
      "Top 10 Anime Predictions\n",
      "\t(22.0100) Sword Art Online II\n",
      "\t(20.7242) Sword Art Online\n",
      "\t(16.8908) Sword Art Online: Extra Edition\n",
      "\t(15.3061) Sword Art Online Movie: Ordinal Scale\n",
      "\t(14.9002) Fairy Tail\n",
      "\t(14.4810) Fairy Tail (2014)\n",
      "\t(13.4937) Baka to Test to Shoukanjuu\n",
      "\t(13.2944) Fairy Tail OVA\n",
      "\t(13.1675) Shingeki no Kyojin\n",
      "\t(13.1460) Baka to Test to Shoukanjuu Ni!\n",
      "\n",
      "Bottom 10 Anime Predictions\n",
      "\t(-2.4532) Green Green Thirteen: Erolutions\n",
      "\t(-2.7109) .hack//Sign\n",
      "\t(-2.7518) Angel&#039;s Feather\n",
      "\t(-2.7632) Green Green\n",
      "\t(-3.0645) Strawberry Panic\n",
      "\t(-3.1291) Kyuuketsuhime Miyu (TV)\n",
      "\t(-3.7390) Cossette no Shouzou\n",
      "\t(-4.0832) Green Green OVA\n",
      "\t(-4.3458) Tenshi Kinryouku\n",
      "\t(-4.9309) Final Fantasy: Unlimited\n"
     ]
    }
   ],
   "source": [
    "myprofile = utils.get_user_anime_list('Backlash')\n",
    "x = utils.get_score_vector_from_user_anime_list(myprofile, data.cindex)\n",
    "xhat = model.predict(x)\n",
    "prediction = utils.prediction_to_dataframe(xhat, myprofile, data.cindex, keep_all=False)\n",
    "\n",
    "print('Top 10 Anime Predictions')\n",
    "for i in prediction.sort_values(ascending=False).head(10).index:\n",
    "    str_ = (\n",
    "        f\"\\t({prediction[i]:2.4f}) {data.get_anime_by_id(i).title}\"\n",
    "    )\n",
    "    print(str_)\n",
    "    \n",
    "print('\\nBottom 10 Anime Predictions')\n",
    "for i in prediction.sort_values(ascending=False).tail(10).index:\n",
    "    str_ = (\n",
    "        f\"\\t({prediction[i]:2.4f}) {data.get_anime_by_id(i).title}\"\n",
    "    )\n",
    "    print(str_)"
   ]
  },
  {
   "cell_type": "code",
   "execution_count": null,
   "metadata": {},
   "outputs": [],
   "source": []
  }
 ],
 "metadata": {
  "kernelspec": {
   "display_name": "animerec",
   "language": "python",
   "name": "animerec"
  },
  "language_info": {
   "codemirror_mode": {
    "name": "ipython",
    "version": 3
   },
   "file_extension": ".py",
   "mimetype": "text/x-python",
   "name": "python",
   "nbconvert_exporter": "python",
   "pygments_lexer": "ipython3",
   "version": "3.7.4"
  }
 },
 "nbformat": 4,
 "nbformat_minor": 4
}
