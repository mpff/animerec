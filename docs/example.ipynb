{
 "cells": [
  {
   "cell_type": "markdown",
   "metadata": {},
   "source": [
    "# Building an Anime Recommender System"
   ]
  },
  {
   "cell_type": "code",
   "execution_count": null,
   "metadata": {},
   "outputs": [],
   "source": [
    "import sys\n",
    "sys.path.append(\"..\")\n",
    "\n",
    "from animerec import models\n",
    "from animerec import utils\n",
    "\n",
    "import pandas\n",
    "import pickle"
   ]
  },
  {
   "cell_type": "markdown",
   "metadata": {},
   "source": [
    "### 0. Train Model"
   ]
  },
  {
   "cell_type": "code",
   "execution_count": null,
   "metadata": {},
   "outputs": [],
   "source": [
    "import os\n",
    "import sys\n",
    "import time\n",
    "import pickle\n",
    "\n",
    "from sklearn.model_selection import RandomizedSearchCV, train_test_split\n",
    "\n",
    "def get_script_path():\n",
    "    return os.path.dirname(os.path.realpath(sys.argv[0]))\n",
    "sys.path.append(get_script_path()+\"/..\")\n",
    "\n",
    "from animerec.models import MatrixFactorization as MF\n",
    "\n",
    "\n",
    "SEED = 123\n",
    "\n",
    "\n",
    "# Load Dataset.\n",
    "pickle_in = open(\"../data/scores.pickle\", \"rb\")\n",
    "X = pickle.load(pickle_in)\n",
    "pickle_in.close()\n",
    "\n",
    "\n",
    "# Perform Randomized Grid Search on Train dataset.\n",
    "param_grid = {\n",
    "    'n_features': [2],\n",
    "    'reg': [0.1, 1, 10, 100]\n",
    "}\n",
    "\n",
    "Xtrain, Xtest = train_test_split(X, test_size=0.95, shuffle=True,\n",
    "                                 random_state=SEED)\n",
    "grid_search = RandomizedSearchCV(MF(verbose=True), param_grid, n_iter=5, cv=5,\n",
    "                                 random_state=SEED, verbose=50)\n",
    "\n",
    "t0 = time.time()\n",
    "grid_search.fit(Xtrain)\n",
    "\n",
    "\n",
    "# Print Diagnostics.\n",
    "print(\"done in %0.3fs\" % (time.time() - t0))\n",
    "print()\n",
    "\n",
    "print(\"Best score: %0.3f\" % grid_search.best_score_)\n",
    "print(\"Best parameters set:\")\n",
    "best_parameters = grid_search.best_estimator_.get_params()\n",
    "for param_name in sorted(parameters.keys()):\n",
    "    print(\"\\t%s: %r\" % (param_name, best_parameters[param_name]))\n",
    "\n",
    "\n",
    "# Save Model.\n",
    "pickle_out = open(\"model/grid_search.pickle\", \"wb\")\n",
    "pickle.dump(grid_search, pickle_out)\n",
    "pickle_out.close()\n"
   ]
  },
  {
   "cell_type": "code",
   "execution_count": null,
   "metadata": {},
   "outputs": [],
   "source": []
  },
  {
   "cell_type": "code",
   "execution_count": null,
   "metadata": {},
   "outputs": [],
   "source": []
  },
  {
   "cell_type": "code",
   "execution_count": null,
   "metadata": {},
   "outputs": [],
   "source": []
  },
  {
   "cell_type": "code",
   "execution_count": null,
   "metadata": {},
   "outputs": [],
   "source": []
  },
  {
   "cell_type": "code",
   "execution_count": null,
   "metadata": {},
   "outputs": [],
   "source": []
  },
  {
   "cell_type": "code",
   "execution_count": null,
   "metadata": {},
   "outputs": [],
   "source": []
  },
  {
   "cell_type": "code",
   "execution_count": null,
   "metadata": {},
   "outputs": [],
   "source": []
  },
  {
   "cell_type": "markdown",
   "metadata": {},
   "source": [
    "### 1. Load Dataset and Model"
   ]
  },
  {
   "cell_type": "code",
   "execution_count": null,
   "metadata": {},
   "outputs": [],
   "source": [
    "# Load anime metadata.\n",
    "pickle_in = open(\"../data/animes.pickle\", 'rb')\n",
    "animes = pickle.load(pickle_in)\n",
    "animes.index = animes['anime_id']\n",
    "animes = animes[ ['title', 'title_english', 'type', 'premiered', 'genre'] ]\n",
    "pickle_in.close()\n",
    "\n",
    "# Load model trained on server.\n",
    "pickle_in = open(\"../model/model.pickle\", 'rb')\n",
    "model = pickle.load(pickle_in)\n",
    "pickle_in.close()\n",
    "\n",
    "# Load anime id's.\n",
    "pickle_in = open(\"../model/item-id.pickle\", 'rb')\n",
    "item_id = pickle.load(pickle_in)\n",
    "pickle_in.close()"
   ]
  },
  {
   "cell_type": "code",
   "execution_count": null,
   "metadata": {},
   "outputs": [],
   "source": []
  },
  {
   "cell_type": "markdown",
   "metadata": {},
   "source": [
    "### 2. Webscrape current profile and create prediction"
   ]
  },
  {
   "cell_type": "code",
   "execution_count": null,
   "metadata": {},
   "outputs": [],
   "source": [
    "myprofile = utils.get_user_anime_list('Manuel')\n",
    "x = utils.get_score_vector_from_user_anime_list(myprofile, item_id)"
   ]
  },
  {
   "cell_type": "code",
   "execution_count": null,
   "metadata": {},
   "outputs": [],
   "source": [
    "rhat = model.predict(x)"
   ]
  },
  {
   "cell_type": "code",
   "execution_count": null,
   "metadata": {},
   "outputs": [],
   "source": [
    "prediction = utils.prediction_to_dataframe(rhat, myprofile, item_id, keep_all=False)\n",
    "prediction = pandas.DataFrame(prediction)\n",
    "prediction.columns = ['score']\n",
    "prediction = prediction.join(animes)"
   ]
  },
  {
   "cell_type": "code",
   "execution_count": null,
   "metadata": {},
   "outputs": [],
   "source": [
    "for i,a in prediction.sort_values(by='score', ascending=False).head(20).iterrows():\n",
    "    print(f\"{a.score:.2f} - {a.title} ({a.premiered})\")"
   ]
  },
  {
   "cell_type": "code",
   "execution_count": null,
   "metadata": {},
   "outputs": [],
   "source": [
    "filt = prediction.apply(lambda x: \"Sci-Fi\" in str(x.genre), axis=1)\n",
    "prediction[filt].sort_values(by='score', ascending=False).head(10)"
   ]
  },
  {
   "cell_type": "code",
   "execution_count": null,
   "metadata": {},
   "outputs": [],
   "source": [
    "filt = prediction.apply(lambda x: \"Fantasy\" in str(x.genre), axis=1)\n",
    "prediction[filt].sort_values(by='score', ascending=False).head(10)"
   ]
  },
  {
   "cell_type": "code",
   "execution_count": null,
   "metadata": {},
   "outputs": [],
   "source": [
    "filt = prediction.apply(lambda x: \"Slice of Life\" in str(x.genre), axis=1)\n",
    "prediction[filt].sort_values(by='score', ascending=False).head(10)"
   ]
  },
  {
   "cell_type": "code",
   "execution_count": null,
   "metadata": {},
   "outputs": [],
   "source": []
  }
 ],
 "metadata": {
  "kernelspec": {
   "display_name": "animerec",
   "language": "python",
   "name": "animerec"
  },
  "language_info": {
   "codemirror_mode": {
    "name": "ipython",
    "version": 3
   },
   "file_extension": ".py",
   "mimetype": "text/x-python",
   "name": "python",
   "nbconvert_exporter": "python",
   "pygments_lexer": "ipython3",
   "version": "3.6.9"
  }
 },
 "nbformat": 4,
 "nbformat_minor": 4
}
