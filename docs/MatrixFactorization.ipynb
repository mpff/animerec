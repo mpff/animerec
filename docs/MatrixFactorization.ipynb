{
 "cells": [
  {
   "cell_type": "markdown",
   "metadata": {},
   "source": [
    "# An Overview of Matrix Factorization Techniques\n",
    "\n",
    "## Basic Matrix Factorization\n",
    "A Matrix Factorization recommender system predicts the ratings $\\hat{r}$ a user $u$ would give an item $i$ by solving\n",
    "\n",
    "$$ \\hat{r}_{ui} = x_u^T y_i $$\n",
    "\n",
    "where $x_u^T = (x_{u1} \\cdots x_{uk})$ is the feature vector of user $u$ and $y_i^T = (y_{i1} \\cdots y_{ik})$ is the feature vector of item $i$. The number of features $k$ is a hyperparameter to be determined. Given a dataset of ratings $\\mathcal{D}$ the goal of Matrix Factorization is to find $x_u$, $y_i$ so that known ratings $r_{ui}$ are reconstructed with small error:\n",
    "\n",
    "$$ r_{ui} \\approx \\hat{r}_{ui} = x_u^T y_i \\quad \\text{for}\\,\\,\\, r_{ui} \\in \\mathcal{D}$$\n",
    "\n",
    "In more general terms, we want to decompose a sparse ratings matrix $R$ into a $(n \\times k)$ user-feature matrix $X$ and an $(m \\times k)$ item-feature matrix $Y$, where $n$ is the number of users in the training dataset and $m$ is the number of items (animes).\n",
    "\n",
    "$$ R \\sim \\hat{R} = X Y^T $$\n"
   ]
  },
  {
   "cell_type": "code",
   "execution_count": null,
   "metadata": {},
   "outputs": [],
   "source": [
    "# TODO: Load libraries and example dataset here."
   ]
  },
  {
   "cell_type": "markdown",
   "metadata": {},
   "source": [
    "### Alternating Least Squares (ALS) for Basic Matrix Factorization\n",
    "\n",
    "A standard approach for finding the matrices $X$ and $Y$ is to minimize a regularized cost function\n",
    "\n",
    "$$ C = \\sum_{r_{ui} \\in \\mathcal{D}} (r_{ui} - x_u^T y_i)^2 \n",
    "        + \\lambda \\left(\\sum_u ||{x_u}||^2 + \\sum_i ||{y_i}||^2 \\right)$$\n",
    "        \n",
    "where $\\lambda$ is a regularization hyperparameter to be determined. In order to minimize $C$ we use the *ALS algorithm*:\n",
    "\n",
    "1. Hold the user vectors fixed and solve the minization problem for the $y_i$'s. This will (probably) not be the global minimum of $C$ since we haven't touched half of the variables (the x$_u$'s), but we have at least decreased $C$.\n",
    "\n",
    "2. Hold the item vectors $y_i$ fixed and solve the minimization problem for the $x_u$'s.\n",
    "\n",
    "3. Repeat"
   ]
  },
  {
   "cell_type": "markdown",
   "metadata": {},
   "source": [
    "The first order conditions (FOC) for finding $y_i$ and $x_u$ are given by:\n",
    "\n",
    "$$ \\frac{\\partial C}{\\partial y_i} = \n",
    "    -2 \\sum_{u \\in \\mathcal{D}^i} ( r_{ui} - x_u^T y_i) x_u + 2 \\lambda y_i \\overset{!}{=} 0$$\n",
    "$$ \\frac{\\partial C}{\\partial x_u} = \n",
    "    -2 \\sum_{i \\in \\mathcal{D}^u} ( r_{ui} - x_u^T y_i) y_i + 2 \\lambda x_u \\overset{!}{=} 0$$\n",
    "    \n",
    "where $\\mathcal{D}^i$ and $\\mathcal{D}^u$ denote the subset of observed rankings for item $i$ and user $u$. We can rewrite these expressions as two systems of linear equations:\n",
    "\n",
    "$$ \\left(X(i)^T X(i) + \\lambda I_k \\right) y_i = X(i)^T R(i)$$\n",
    "\n",
    "$$ \\left(Y(u)^T Y(u) + \\lambda I_k \\right) x_u = Y(u)^T R(u)$$\n",
    "\n",
    "where $X(i)$, $Y(u)$ are the submatrices only containing users that ranked item $i$ and items that were ranked by users $u$, and likewise for rating submatrices $R(u)$, $R(i)$."
   ]
  },
  {
   "cell_type": "code",
   "execution_count": null,
   "metadata": {},
   "outputs": [],
   "source": [
    "# TODO: Implement an example code here."
   ]
  },
  {
   "cell_type": "markdown",
   "metadata": {},
   "source": [
    "## Biased Matrix Factorization\n",
    "\n",
    "Most recommender systems perform better if user and item biases are taken into account. One way to account for user bias is to model the actual user-item ratings as\n",
    "\n",
    "$$ r_{ui} \\approx \\beta_u + \\gamma_i + \\hat{r}_{ui} $$\n",
    " \n",
    "where $\\beta_u$ is the user bias of user $u$ and $\\gamma_i$ is the item bias for item $i$."
   ]
  },
  {
   "cell_type": "code",
   "execution_count": null,
   "metadata": {},
   "outputs": [],
   "source": []
  }
 ],
 "metadata": {
  "kernelspec": {
   "display_name": "animerec",
   "language": "python",
   "name": "animerec"
  },
  "language_info": {
   "codemirror_mode": {
    "name": "ipython",
    "version": 3
   },
   "file_extension": ".py",
   "mimetype": "text/x-python",
   "name": "python",
   "nbconvert_exporter": "python",
   "pygments_lexer": "ipython3",
   "version": "3.7.4"
  }
 },
 "nbformat": 4,
 "nbformat_minor": 4
}
